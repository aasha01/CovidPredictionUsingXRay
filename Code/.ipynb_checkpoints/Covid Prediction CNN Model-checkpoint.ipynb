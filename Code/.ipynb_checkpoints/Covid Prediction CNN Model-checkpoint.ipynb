{
 "cells": [
  {
   "cell_type": "code",
   "execution_count": 1,
   "metadata": {
    "ExecuteTime": {
     "end_time": "2020-06-27T21:11:18.535047Z",
     "start_time": "2020-06-27T21:11:05.398212Z"
    }
   },
   "outputs": [
    {
     "name": "stdout",
     "output_type": "stream",
     "text": [
      "[INFO] loading images...\n",
      "/Users/malaudeen/Documents/Inceptez/ML-Deployement/keras-covid-19/dataset/normal/NORMAL2-IM-1326-0001.jpeg\n",
      "/Users/malaudeen/Documents/Inceptez/ML-Deployement/keras-covid-19/dataset/normal/IM-0433-0001.jpeg\n",
      "/Users/malaudeen/Documents/Inceptez/ML-Deployement/keras-covid-19/dataset/normal/NORMAL2-IM-1019-0001.jpeg\n",
      "/Users/malaudeen/Documents/Inceptez/ML-Deployement/keras-covid-19/dataset/normal/NORMAL2-IM-0315-0001.jpeg\n",
      "/Users/malaudeen/Documents/Inceptez/ML-Deployement/keras-covid-19/dataset/normal/NORMAL2-IM-0840-0001.jpeg\n",
      "/Users/malaudeen/Documents/Inceptez/ML-Deployement/keras-covid-19/dataset/normal/NORMAL2-IM-1288-0001.jpeg\n",
      "/Users/malaudeen/Documents/Inceptez/ML-Deployement/keras-covid-19/dataset/normal/IM-0156-0001.jpeg\n",
      "/Users/malaudeen/Documents/Inceptez/ML-Deployement/keras-covid-19/dataset/normal/IM-0270-0001.jpeg\n",
      "/Users/malaudeen/Documents/Inceptez/ML-Deployement/keras-covid-19/dataset/normal/person378_virus_761.jpeg\n",
      "/Users/malaudeen/Documents/Inceptez/ML-Deployement/keras-covid-19/dataset/normal/IM-0385-0001.jpeg\n",
      "/Users/malaudeen/Documents/Inceptez/ML-Deployement/keras-covid-19/dataset/normal/person438_bacteria_1893.jpeg\n",
      "/Users/malaudeen/Documents/Inceptez/ML-Deployement/keras-covid-19/dataset/normal/NORMAL2-IM-0859-0001.jpeg\n",
      "/Users/malaudeen/Documents/Inceptez/ML-Deployement/keras-covid-19/dataset/normal/person259_bacteria_1220.jpeg\n",
      "/Users/malaudeen/Documents/Inceptez/ML-Deployement/keras-covid-19/dataset/normal/NORMAL2-IM-0626-0001.jpeg\n",
      "/Users/malaudeen/Documents/Inceptez/ML-Deployement/keras-covid-19/dataset/normal/IM-0533-0001-0002.jpeg\n",
      "/Users/malaudeen/Documents/Inceptez/ML-Deployement/keras-covid-19/dataset/normal/NORMAL2-IM-0914-0001.jpeg\n",
      "/Users/malaudeen/Documents/Inceptez/ML-Deployement/keras-covid-19/dataset/normal/IM-0543-0001-0002.jpeg\n",
      "/Users/malaudeen/Documents/Inceptez/ML-Deployement/keras-covid-19/dataset/normal/IM-0528-0001.jpeg\n",
      "/Users/malaudeen/Documents/Inceptez/ML-Deployement/keras-covid-19/dataset/normal/IM-0372-0001.jpeg\n",
      "/Users/malaudeen/Documents/Inceptez/ML-Deployement/keras-covid-19/dataset/normal/IM-0691-0001.jpeg\n",
      "/Users/malaudeen/Documents/Inceptez/ML-Deployement/keras-covid-19/dataset/normal/NORMAL2-IM-0395-0001.jpeg\n",
      "/Users/malaudeen/Documents/Inceptez/ML-Deployement/keras-covid-19/dataset/normal/NORMAL2-IM-0730-0001.jpeg\n",
      "/Users/malaudeen/Documents/Inceptez/ML-Deployement/keras-covid-19/dataset/normal/person525_bacteria_2216.jpeg\n",
      "/Users/malaudeen/Documents/Inceptez/ML-Deployement/keras-covid-19/dataset/normal/NORMAL2-IM-1320-0001.jpeg\n",
      "/Users/malaudeen/Documents/Inceptez/ML-Deployement/keras-covid-19/dataset/normal/IM-0421-0001.jpeg\n",
      "/Users/malaudeen/Documents/Inceptez/ML-Deployement/keras-covid-19/dataset/normal/NORMAL2-IM-0935-0001.jpeg\n",
      "/Users/malaudeen/Documents/Inceptez/ML-Deployement/keras-covid-19/dataset/normal/NORMAL2-IM-0873-0001.jpeg\n",
      "/Users/malaudeen/Documents/Inceptez/ML-Deployement/keras-covid-19/dataset/normal/person1935_bacteria_4849.jpeg\n",
      "/Users/malaudeen/Documents/Inceptez/ML-Deployement/keras-covid-19/dataset/normal/NORMAL2-IM-0986-0001.jpeg\n",
      "/Users/malaudeen/Documents/Inceptez/ML-Deployement/keras-covid-19/dataset/normal/IM-0551-0001-0002.jpeg\n",
      "/Users/malaudeen/Documents/Inceptez/ML-Deployement/keras-covid-19/dataset/normal/NORMAL2-IM-1020-0001-0001.jpeg\n",
      "/Users/malaudeen/Documents/Inceptez/ML-Deployement/keras-covid-19/dataset/normal/IM-0713-0001.jpeg\n",
      "/Users/malaudeen/Documents/Inceptez/ML-Deployement/keras-covid-19/dataset/normal/IM-0525-0001.jpeg\n",
      "/Users/malaudeen/Documents/Inceptez/ML-Deployement/keras-covid-19/dataset/normal/IM-0688-0001.jpeg\n",
      "/Users/malaudeen/Documents/Inceptez/ML-Deployement/keras-covid-19/dataset/normal/NORMAL2-IM-0831-0001.jpeg\n",
      "/Users/malaudeen/Documents/Inceptez/ML-Deployement/keras-covid-19/dataset/normal/NORMAL2-IM-0956-0001.jpeg\n",
      "/Users/malaudeen/Documents/Inceptez/ML-Deployement/keras-covid-19/dataset/normal/NORMAL2-IM-1275-0001.jpeg\n",
      "/Users/malaudeen/Documents/Inceptez/ML-Deployement/keras-covid-19/dataset/normal/NORMAL2-IM-0790-0001.jpeg\n",
      "/Users/malaudeen/Documents/Inceptez/ML-Deployement/keras-covid-19/dataset/normal/NORMAL2-IM-1111-0001.jpeg\n",
      "/Users/malaudeen/Documents/Inceptez/ML-Deployement/keras-covid-19/dataset/normal/person339_bacteria_1574.jpeg\n",
      "/Users/malaudeen/Documents/Inceptez/ML-Deployement/keras-covid-19/dataset/normal/NORMAL2-IM-0501-0001.jpeg\n",
      "/Users/malaudeen/Documents/Inceptez/ML-Deployement/keras-covid-19/dataset/normal/IM-0495-0001.jpeg\n",
      "/Users/malaudeen/Documents/Inceptez/ML-Deployement/keras-covid-19/dataset/normal/IM-0176-0001.jpeg\n",
      "/Users/malaudeen/Documents/Inceptez/ML-Deployement/keras-covid-19/dataset/normal/IM-0389-0001.jpeg\n",
      "/Users/malaudeen/Documents/Inceptez/ML-Deployement/keras-covid-19/dataset/normal/NORMAL2-IM-1240-0001.jpeg\n",
      "/Users/malaudeen/Documents/Inceptez/ML-Deployement/keras-covid-19/dataset/normal/person651_bacteria_2543.jpeg\n",
      "/Users/malaudeen/Documents/Inceptez/ML-Deployement/keras-covid-19/dataset/normal/IM-0555-0001.jpeg\n",
      "/Users/malaudeen/Documents/Inceptez/ML-Deployement/keras-covid-19/dataset/normal/NORMAL2-IM-0408-0001.jpeg\n",
      "/Users/malaudeen/Documents/Inceptez/ML-Deployement/keras-covid-19/dataset/normal/NORMAL2-IM-0518-0001.jpeg\n",
      "/Users/malaudeen/Documents/Inceptez/ML-Deployement/keras-covid-19/dataset/normal/NORMAL2-IM-1202-0001.jpeg\n",
      "/Users/malaudeen/Documents/Inceptez/ML-Deployement/keras-covid-19/dataset/normal/NORMAL2-IM-1344-0001.jpeg\n",
      "/Users/malaudeen/Documents/Inceptez/ML-Deployement/keras-covid-19/dataset/normal/IM-0337-0001.jpeg\n",
      "/Users/malaudeen/Documents/Inceptez/ML-Deployement/keras-covid-19/dataset/normal/IM-0667-0001.jpeg\n",
      "/Users/malaudeen/Documents/Inceptez/ML-Deployement/keras-covid-19/dataset/normal/IM-0451-0001.jpeg\n",
      "/Users/malaudeen/Documents/Inceptez/ML-Deployement/keras-covid-19/dataset/normal/IM-0536-0001.jpeg\n",
      "/Users/malaudeen/Documents/Inceptez/ML-Deployement/keras-covid-19/dataset/normal/IM-0700-0001.jpeg\n",
      "/Users/malaudeen/Documents/Inceptez/ML-Deployement/keras-covid-19/dataset/normal/NORMAL2-IM-1237-0001.jpeg\n",
      "/Users/malaudeen/Documents/Inceptez/ML-Deployement/keras-covid-19/dataset/normal/IM-0187-0001.jpeg\n",
      "/Users/malaudeen/Documents/Inceptez/ML-Deployement/keras-covid-19/dataset/normal/NORMAL2-IM-1290-0001.jpeg\n",
      "/Users/malaudeen/Documents/Inceptez/ML-Deployement/keras-covid-19/dataset/normal/IM-0221-0001.jpeg\n",
      "/Users/malaudeen/Documents/Inceptez/ML-Deployement/keras-covid-19/dataset/normal/NORMAL2-IM-0847-0001.jpeg\n",
      "/Users/malaudeen/Documents/Inceptez/ML-Deployement/keras-covid-19/dataset/normal/NORMAL2-IM-1300-0001.jpeg\n",
      "/Users/malaudeen/Documents/Inceptez/ML-Deployement/keras-covid-19/dataset/normal/person1558_bacteria_4066.jpeg\n",
      "/Users/malaudeen/Documents/Inceptez/ML-Deployement/keras-covid-19/dataset/normal/NORMAL2-IM-1228-0001.jpeg\n",
      "/Users/malaudeen/Documents/Inceptez/ML-Deployement/keras-covid-19/dataset/normal/NORMAL2-IM-1191-0001.jpeg\n",
      "/Users/malaudeen/Documents/Inceptez/ML-Deployement/keras-covid-19/dataset/normal/IM-0529-0001.jpeg\n",
      "/Users/malaudeen/Documents/Inceptez/ML-Deployement/keras-covid-19/dataset/normal/NORMAL2-IM-1045-0001.jpeg\n",
      "/Users/malaudeen/Documents/Inceptez/ML-Deployement/keras-covid-19/dataset/normal/NORMAL2-IM-1179-0001.jpeg\n",
      "/Users/malaudeen/Documents/Inceptez/ML-Deployement/keras-covid-19/dataset/normal/NORMAL2-IM-0441-0001.jpeg\n",
      "/Users/malaudeen/Documents/Inceptez/ML-Deployement/keras-covid-19/dataset/normal/NORMAL2-IM-1188-0001.jpeg\n",
      "/Users/malaudeen/Documents/Inceptez/ML-Deployement/keras-covid-19/dataset/normal/IM-0530-0001.jpeg\n",
      "/Users/malaudeen/Documents/Inceptez/ML-Deployement/keras-covid-19/dataset/normal/NORMAL2-IM-0976-0001.jpeg\n",
      "/Users/malaudeen/Documents/Inceptez/ML-Deployement/keras-covid-19/dataset/normal/IM-0242-0001.jpeg\n",
      "/Users/malaudeen/Documents/Inceptez/ML-Deployement/keras-covid-19/dataset/normal/IM-0439-0001.jpeg\n",
      "/Users/malaudeen/Documents/Inceptez/ML-Deployement/keras-covid-19/dataset/normal/IM-0556-0001.jpeg\n",
      "/Users/malaudeen/Documents/Inceptez/ML-Deployement/keras-covid-19/dataset/normal/IM-0660-0001-0001.jpeg\n",
      "/Users/malaudeen/Documents/Inceptez/ML-Deployement/keras-covid-19/dataset/normal/NORMAL2-IM-1305-0001.jpeg\n",
      "/Users/malaudeen/Documents/Inceptez/ML-Deployement/keras-covid-19/dataset/normal/NORMAL2-IM-0842-0001.jpeg\n",
      "/Users/malaudeen/Documents/Inceptez/ML-Deployement/keras-covid-19/dataset/normal/IM-0648-0001.jpeg\n"
     ]
    },
    {
     "name": "stdout",
     "output_type": "stream",
     "text": [
      "/Users/malaudeen/Documents/Inceptez/ML-Deployement/keras-covid-19/dataset/normal/IM-0425-0001.jpeg\n",
      "/Users/malaudeen/Documents/Inceptez/ML-Deployement/keras-covid-19/dataset/normal/IM-0563-0001.jpeg\n",
      "/Users/malaudeen/Documents/Inceptez/ML-Deployement/keras-covid-19/dataset/normal/IM-0669-0001.jpeg\n",
      "/Users/malaudeen/Documents/Inceptez/ML-Deployement/keras-covid-19/dataset/normal/NORMAL2-IM-0499-0001.jpeg\n",
      "/Users/malaudeen/Documents/Inceptez/ML-Deployement/keras-covid-19/dataset/normal/IM-0482-0001.jpeg\n",
      "/Users/malaudeen/Documents/Inceptez/ML-Deployement/keras-covid-19/dataset/normal/IM-0467-0001.jpeg\n",
      "/Users/malaudeen/Documents/Inceptez/ML-Deployement/keras-covid-19/dataset/normal/IM-0301-0001.jpeg\n",
      "/Users/malaudeen/Documents/Inceptez/ML-Deployement/keras-covid-19/dataset/normal/person1599_virus_2776.jpeg\n",
      "/Users/malaudeen/Documents/Inceptez/ML-Deployement/keras-covid-19/dataset/normal/NORMAL2-IM-1287-0001.jpeg\n",
      "/Users/malaudeen/Documents/Inceptez/ML-Deployement/keras-covid-19/dataset/normal/NORMAL2-IM-0535-0001-0002.jpeg\n",
      "/Users/malaudeen/Documents/Inceptez/ML-Deployement/keras-covid-19/dataset/normal/IM-0703-0001.jpeg\n",
      "/Users/malaudeen/Documents/Inceptez/ML-Deployement/keras-covid-19/dataset/normal/IM-0033-0001-0001.jpeg\n",
      "/Users/malaudeen/Documents/Inceptez/ML-Deployement/keras-covid-19/dataset/normal/IM-0514-0001.jpeg\n",
      "/Users/malaudeen/Documents/Inceptez/ML-Deployement/keras-covid-19/dataset/normal/IM-0500-0001.jpeg\n",
      "/Users/malaudeen/Documents/Inceptez/ML-Deployement/keras-covid-19/dataset/normal/NORMAL2-IM-1037-0001.jpeg\n",
      "/Users/malaudeen/Documents/Inceptez/ML-Deployement/keras-covid-19/dataset/normal/person1102_bacteria_3043.jpeg\n",
      "/Users/malaudeen/Documents/Inceptez/ML-Deployement/keras-covid-19/dataset/normal/NORMAL2-IM-1336-0001.jpeg\n",
      "/Users/malaudeen/Documents/Inceptez/ML-Deployement/keras-covid-19/dataset/normal/IM-0351-0001.jpeg\n",
      "/Users/malaudeen/Documents/Inceptez/ML-Deployement/keras-covid-19/dataset/normal/person1290_virus_2215.jpeg\n",
      "/Users/malaudeen/Documents/Inceptez/ML-Deployement/keras-covid-19/dataset/normal/IM-0666-0001-0001.jpeg\n",
      "/Users/malaudeen/Documents/Inceptez/ML-Deployement/keras-covid-19/dataset/normal/person934_virus_1595.jpeg\n",
      "/Users/malaudeen/Documents/Inceptez/ML-Deployement/keras-covid-19/dataset/normal/NORMAL2-IM-0416-0001-0001.jpeg\n",
      "/Users/malaudeen/Documents/Inceptez/ML-Deployement/keras-covid-19/dataset/normal/NORMAL2-IM-0978-0001.jpeg\n",
      "/Users/malaudeen/Documents/Inceptez/ML-Deployement/keras-covid-19/dataset/normal/IM-0544-0001.jpeg\n",
      "/Users/malaudeen/Documents/Inceptez/ML-Deployement/keras-covid-19/dataset/normal/IM-0724-0001.jpeg\n",
      "/Users/malaudeen/Documents/Inceptez/ML-Deployement/keras-covid-19/dataset/normal/NORMAL2-IM-0573-0001.jpeg\n",
      "/Users/malaudeen/Documents/Inceptez/ML-Deployement/keras-covid-19/dataset/normal/IM-0332-0001.jpeg\n",
      "/Users/malaudeen/Documents/Inceptez/ML-Deployement/keras-covid-19/dataset/normal/IM-0326-0001.jpeg\n",
      "/Users/malaudeen/Documents/Inceptez/ML-Deployement/keras-covid-19/dataset/normal/NORMAL2-IM-0798-0001.jpeg\n",
      "/Users/malaudeen/Documents/Inceptez/ML-Deployement/keras-covid-19/dataset/normal/NORMAL2-IM-1295-0001.jpeg\n",
      "/Users/malaudeen/Documents/Inceptez/ML-Deployement/keras-covid-19/dataset/normal/NORMAL2-IM-0894-0001.jpeg\n",
      "/Users/malaudeen/Documents/Inceptez/ML-Deployement/keras-covid-19/dataset/normal/IM-0182-0001.jpeg\n",
      "/Users/malaudeen/Documents/Inceptez/ML-Deployement/keras-covid-19/dataset/normal/IM-0461-0001.jpeg\n",
      "/Users/malaudeen/Documents/Inceptez/ML-Deployement/keras-covid-19/dataset/normal/NORMAL2-IM-1277-0001-0002.jpeg\n",
      "/Users/malaudeen/Documents/Inceptez/ML-Deployement/keras-covid-19/dataset/normal/IM-0369-0001.jpeg\n",
      "/Users/malaudeen/Documents/Inceptez/ML-Deployement/keras-covid-19/dataset/normal/person989_virus_1667.jpeg\n",
      "/Users/malaudeen/Documents/Inceptez/ML-Deployement/keras-covid-19/dataset/normal/person925_virus_1582.jpeg\n",
      "/Users/malaudeen/Documents/Inceptez/ML-Deployement/keras-covid-19/dataset/normal/IM-0543-0001.jpeg\n",
      "/Users/malaudeen/Documents/Inceptez/ML-Deployement/keras-covid-19/dataset/normal/IM-0551-0001-0001.jpeg\n",
      "/Users/malaudeen/Documents/Inceptez/ML-Deployement/keras-covid-19/dataset/normal/NORMAL2-IM-0905-0001.jpeg\n",
      "/Users/malaudeen/Documents/Inceptez/ML-Deployement/keras-covid-19/dataset/normal/IM-0539-0001.jpeg\n",
      "/Users/malaudeen/Documents/Inceptez/ML-Deployement/keras-covid-19/dataset/normal/NORMAL2-IM-0652-0001.jpeg\n",
      "/Users/malaudeen/Documents/Inceptez/ML-Deployement/keras-covid-19/dataset/normal/person1_bacteria_2.jpeg\n",
      "/Users/malaudeen/Documents/Inceptez/ML-Deployement/keras-covid-19/dataset/normal/NORMAL2-IM-0857-0001.jpeg\n",
      "/Users/malaudeen/Documents/Inceptez/ML-Deployement/keras-covid-19/dataset/normal/NORMAL2-IM-1060-0001.jpeg\n",
      "/Users/malaudeen/Documents/Inceptez/ML-Deployement/keras-covid-19/dataset/normal/IM-0491-0001-0002.jpeg\n",
      "/Users/malaudeen/Documents/Inceptez/ML-Deployement/keras-covid-19/dataset/normal/IM-0430-0001.jpeg\n",
      "/Users/malaudeen/Documents/Inceptez/ML-Deployement/keras-covid-19/dataset/normal/person939_bacteria_2864.jpeg\n",
      "/Users/malaudeen/Documents/Inceptez/ML-Deployement/keras-covid-19/dataset/normal/NORMAL2-IM-0851-0001-0001.jpeg\n",
      "/Users/malaudeen/Documents/Inceptez/ML-Deployement/keras-covid-19/dataset/normal/NORMAL2-IM-0696-0001.jpeg\n",
      "/Users/malaudeen/Documents/Inceptez/ML-Deployement/keras-covid-19/dataset/normal/IM-0534-0001.jpeg\n",
      "/Users/malaudeen/Documents/Inceptez/ML-Deployement/keras-covid-19/dataset/normal/IM-0472-0001.jpeg\n",
      "/Users/malaudeen/Documents/Inceptez/ML-Deployement/keras-covid-19/dataset/normal/IM-0466-0001.jpeg\n",
      "/Users/malaudeen/Documents/Inceptez/ML-Deployement/keras-covid-19/dataset/normal/IM-0300-0001.jpeg\n",
      "/Users/malaudeen/Documents/Inceptez/ML-Deployement/keras-covid-19/dataset/normal/IM-0447-0001.jpeg\n",
      "/Users/malaudeen/Documents/Inceptez/ML-Deployement/keras-covid-19/dataset/normal/IM-0392-0001.jpeg\n",
      "/Users/malaudeen/Documents/Inceptez/ML-Deployement/keras-covid-19/dataset/normal/NORMAL2-IM-1346-0001.jpeg\n",
      "/Users/malaudeen/Documents/Inceptez/ML-Deployement/keras-covid-19/dataset/normal/IM-0429-0001.jpeg\n",
      "/Users/malaudeen/Documents/Inceptez/ML-Deployement/keras-covid-19/dataset/normal/NORMAL2-IM-0815-0001.jpeg\n",
      "/Users/malaudeen/Documents/Inceptez/ML-Deployement/keras-covid-19/dataset/normal/NORMAL2-IM-1345-0001-0001.jpeg\n",
      "/Users/malaudeen/Documents/Inceptez/ML-Deployement/keras-covid-19/dataset/normal/NORMAL2-IM-1214-0001.jpeg\n",
      "/Users/malaudeen/Documents/Inceptez/ML-Deployement/keras-covid-19/dataset/normal/NORMAL2-IM-1022-0001.jpeg\n",
      "/Users/malaudeen/Documents/Inceptez/ML-Deployement/keras-covid-19/dataset/normal/NORMAL2-IM-1337-0001.jpeg\n",
      "/Users/malaudeen/Documents/Inceptez/ML-Deployement/keras-covid-19/dataset/normal/IM-0644-0001-0002.jpeg\n",
      "/Users/malaudeen/Documents/Inceptez/ML-Deployement/keras-covid-19/dataset/normal/IM-0491-0001.jpeg\n",
      "/Users/malaudeen/Documents/Inceptez/ML-Deployement/keras-covid-19/dataset/normal/IM-0172-0001.jpeg\n",
      "/Users/malaudeen/Documents/Inceptez/ML-Deployement/keras-covid-19/dataset/normal/NORMAL2-IM-1094-0001-0001.jpeg\n",
      "/Users/malaudeen/Documents/Inceptez/ML-Deployement/keras-covid-19/dataset/normal/IM-0564-0001.jpeg\n",
      "/Users/malaudeen/Documents/Inceptez/ML-Deployement/keras-covid-19/dataset/normal/IM-0365-0001.jpeg\n",
      "/Users/malaudeen/Documents/Inceptez/ML-Deployement/keras-covid-19/dataset/normal/NORMAL2-IM-0462-0001.jpeg\n",
      "/Users/malaudeen/Documents/Inceptez/ML-Deployement/keras-covid-19/dataset/normal/IM-0635-0001.jpeg\n",
      "/Users/malaudeen/Documents/Inceptez/ML-Deployement/keras-covid-19/dataset/normal/NORMAL2-IM-0851-0001.jpeg\n",
      "/Users/malaudeen/Documents/Inceptez/ML-Deployement/keras-covid-19/dataset/normal/person1830_bacteria_4693.jpeg\n",
      "/Users/malaudeen/Documents/Inceptez/ML-Deployement/keras-covid-19/dataset/normal/NORMAL2-IM-1154-0001-0002.jpeg\n",
      "/Users/malaudeen/Documents/Inceptez/ML-Deployement/keras-covid-19/dataset/normal/IM-0327-0001.jpeg\n",
      "/Users/malaudeen/Documents/Inceptez/ML-Deployement/keras-covid-19/dataset/normal/IM-0261-0001.jpeg\n",
      "/Users/malaudeen/Documents/Inceptez/ML-Deployement/keras-covid-19/dataset/normal/IM-0656-0001-0002.jpeg\n",
      "/Users/malaudeen/Documents/Inceptez/ML-Deployement/keras-covid-19/dataset/normal/IM-0488-0001.jpeg\n",
      "/Users/malaudeen/Documents/Inceptez/ML-Deployement/keras-covid-19/dataset/normal/person612_bacteria_2478.jpeg\n",
      "/Users/malaudeen/Documents/Inceptez/ML-Deployement/keras-covid-19/dataset/normal/NORMAL2-IM-0941-0001.jpeg\n",
      "/Users/malaudeen/Documents/Inceptez/ML-Deployement/keras-covid-19/dataset/normal/NORMAL2-IM-0678-0001.jpeg\n",
      "/Users/malaudeen/Documents/Inceptez/ML-Deployement/keras-covid-19/dataset/normal/NORMAL2-IM-0869-0001.jpeg\n"
     ]
    },
    {
     "name": "stdout",
     "output_type": "stream",
     "text": [
      "/Users/malaudeen/Documents/Inceptez/ML-Deployement/keras-covid-19/dataset/normal/IM-0619-0001.jpeg\n",
      "/Users/malaudeen/Documents/Inceptez/ML-Deployement/keras-covid-19/dataset/normal/NORMAL2-IM-1103-0001-0001.jpeg\n",
      "/Users/malaudeen/Documents/Inceptez/ML-Deployement/keras-covid-19/dataset/normal/NORMAL2-IM-0529-0001.jpeg\n",
      "/Users/malaudeen/Documents/Inceptez/ML-Deployement/keras-covid-19/dataset/normal/NORMAL2-IM-0765-0001.jpeg\n",
      "/Users/malaudeen/Documents/Inceptez/ML-Deployement/keras-covid-19/dataset/normal/IM-0240-0001.jpeg\n",
      "/Users/malaudeen/Documents/Inceptez/ML-Deployement/keras-covid-19/dataset/covid/9fdd3c3032296fd04d2cad5d9070d4_jumbo.jpeg\n",
      "/Users/malaudeen/Documents/Inceptez/ML-Deployement/keras-covid-19/dataset/covid/16669_3_1.jpeg\n",
      "/Users/malaudeen/Documents/Inceptez/ML-Deployement/keras-covid-19/dataset/covid/16663_1_1.jpg\n",
      "/Users/malaudeen/Documents/Inceptez/ML-Deployement/keras-covid-19/dataset/covid/covid-19-pneumonia-22-day2-pa.png\n",
      "/Users/malaudeen/Documents/Inceptez/ML-Deployement/keras-covid-19/dataset/covid/8FDE8DBA-CFBD-4B4C-B1A4-6F36A93B7E87.jpeg\n",
      "/Users/malaudeen/Documents/Inceptez/ML-Deployement/keras-covid-19/dataset/covid/extubation-8.jpg\n",
      "/Users/malaudeen/Documents/Inceptez/ML-Deployement/keras-covid-19/dataset/covid/31BA3780-2323-493F-8AED-62081B9C383B.jpeg\n",
      "/Users/malaudeen/Documents/Inceptez/ML-Deployement/keras-covid-19/dataset/covid/7C69C012-7479-493F-8722-ABC29C60A2DD.jpeg\n",
      "/Users/malaudeen/Documents/Inceptez/ML-Deployement/keras-covid-19/dataset/covid/covid-19-pneumonia-7-PA.jpg\n",
      "/Users/malaudeen/Documents/Inceptez/ML-Deployement/keras-covid-19/dataset/covid/nejmoa2001191_f5-PA.jpeg\n",
      "/Users/malaudeen/Documents/Inceptez/ML-Deployement/keras-covid-19/dataset/covid/16660_2_1.jpg\n",
      "/Users/malaudeen/Documents/Inceptez/ML-Deployement/keras-covid-19/dataset/covid/nejmc2001573_f1a.jpeg\n",
      "/Users/malaudeen/Documents/Inceptez/ML-Deployement/keras-covid-19/dataset/covid/covid-19-pneumonia-30-PA.jpg\n",
      "/Users/malaudeen/Documents/Inceptez/ML-Deployement/keras-covid-19/dataset/covid/23E99E2E-447C-46E5-8EB2-D35D12473C39.png\n",
      "/Users/malaudeen/Documents/Inceptez/ML-Deployement/keras-covid-19/dataset/covid/7-fatal-covid19.jpg\n",
      "/Users/malaudeen/Documents/Inceptez/ML-Deployement/keras-covid-19/dataset/covid/16654_1_1.png\n",
      "/Users/malaudeen/Documents/Inceptez/ML-Deployement/keras-covid-19/dataset/covid/covid-19-pneumonia-14-PA.png\n",
      "/Users/malaudeen/Documents/Inceptez/ML-Deployement/keras-covid-19/dataset/covid/auntminnie-a-2020_01_28_23_51_6665_2020_01_28_Vietnam_coronavirus.jpeg\n",
      "/Users/malaudeen/Documents/Inceptez/ML-Deployement/keras-covid-19/dataset/covid/16672_1_1.jpg\n",
      "/Users/malaudeen/Documents/Inceptez/ML-Deployement/keras-covid-19/dataset/covid/covid-19-pneumonia-44-day-0.jpeg\n",
      "/Users/malaudeen/Documents/Inceptez/ML-Deployement/keras-covid-19/dataset/covid/F63AB6CE-1968-4154-A70F-913AF154F53D.jpeg\n",
      "/Users/malaudeen/Documents/Inceptez/ML-Deployement/keras-covid-19/dataset/covid/16669_1_1.jpeg\n",
      "/Users/malaudeen/Documents/Inceptez/ML-Deployement/keras-covid-19/dataset/covid/extubation-13.jpg\n",
      "/Users/malaudeen/Documents/Inceptez/ML-Deployement/keras-covid-19/dataset/covid/16660_4_1.jpg\n",
      "/Users/malaudeen/Documents/Inceptez/ML-Deployement/keras-covid-19/dataset/covid/4-x-day1.jpg\n",
      "/Users/malaudeen/Documents/Inceptez/ML-Deployement/keras-covid-19/dataset/covid/radiol.2020200274.fig3d.png\n",
      "/Users/malaudeen/Documents/Inceptez/ML-Deployement/keras-covid-19/dataset/covid/16654_4_1.jpg\n",
      "/Users/malaudeen/Documents/Inceptez/ML-Deployement/keras-covid-19/dataset/covid/covid-19-pneumonia-35-1.jpg\n",
      "/Users/malaudeen/Documents/Inceptez/ML-Deployement/keras-covid-19/dataset/covid/ryct.2020200034.fig5-day4.jpeg\n",
      "/Users/malaudeen/Documents/Inceptez/ML-Deployement/keras-covid-19/dataset/covid/16660_3_1.jpg\n",
      "/Users/malaudeen/Documents/Inceptez/ML-Deployement/keras-covid-19/dataset/covid/covid-19-pneumonia-58-day-10.jpg\n",
      "/Users/malaudeen/Documents/Inceptez/ML-Deployement/keras-covid-19/dataset/covid/4e43e48d52c9e2d4c6c1fb9bc1544f_jumbo.jpeg\n",
      "/Users/malaudeen/Documents/Inceptez/ML-Deployement/keras-covid-19/dataset/covid/lancet-case2a.jpg\n",
      "/Users/malaudeen/Documents/Inceptez/ML-Deployement/keras-covid-19/dataset/covid/covid-19-pneumonia-38-pa.jpg\n",
      "/Users/malaudeen/Documents/Inceptez/ML-Deployement/keras-covid-19/dataset/covid/nCoV-radiol.2020200269.fig1-day7.jpeg\n",
      "/Users/malaudeen/Documents/Inceptez/ML-Deployement/keras-covid-19/dataset/covid/figure1-5e75d0940b71e1b702629659-98-right.jpeg\n",
      "/Users/malaudeen/Documents/Inceptez/ML-Deployement/keras-covid-19/dataset/covid/covid-19-pneumonia-35-2.jpg\n",
      "/Users/malaudeen/Documents/Inceptez/ML-Deployement/keras-covid-19/dataset/covid/1-s2.0-S0929664620300449-gr2_lrg-d.jpg\n",
      "/Users/malaudeen/Documents/Inceptez/ML-Deployement/keras-covid-19/dataset/covid/16660_1_1.jpg\n",
      "/Users/malaudeen/Documents/Inceptez/ML-Deployement/keras-covid-19/dataset/covid/covid-19-pneumonia-20-pa-on-admission.jpg\n",
      "/Users/malaudeen/Documents/Inceptez/ML-Deployement/keras-covid-19/dataset/covid/1B734A89-A1BF-49A8-A1D3-66FAFA4FAC5D.jpeg\n",
      "/Users/malaudeen/Documents/Inceptez/ML-Deployement/keras-covid-19/dataset/covid/covid-19-pneumonia-28.png\n",
      "/Users/malaudeen/Documents/Inceptez/ML-Deployement/keras-covid-19/dataset/covid/covid-19-pneumonia-evolution-over-a-week-1-day0-PA.jpg\n",
      "/Users/malaudeen/Documents/Inceptez/ML-Deployement/keras-covid-19/dataset/covid/covid-19-pneumonia-58-day-7.jpg\n",
      "/Users/malaudeen/Documents/Inceptez/ML-Deployement/keras-covid-19/dataset/covid/lancet-case2b.jpg\n",
      "/Users/malaudeen/Documents/Inceptez/ML-Deployement/keras-covid-19/dataset/covid/auntminnie-c-2020_01_28_23_51_6665_2020_01_28_Vietnam_coronavirus.jpeg\n",
      "/Users/malaudeen/Documents/Inceptez/ML-Deployement/keras-covid-19/dataset/covid/03BF7561-A9BA-4C3C-B8A0-D3E585F73F3C.jpeg\n",
      "/Users/malaudeen/Documents/Inceptez/ML-Deployement/keras-covid-19/dataset/covid/covid-19-pneumonia-58-day-3.jpg\n",
      "/Users/malaudeen/Documents/Inceptez/ML-Deployement/keras-covid-19/dataset/covid/1-s2.0-S0929664620300449-gr2_lrg-a.jpg\n",
      "/Users/malaudeen/Documents/Inceptez/ML-Deployement/keras-covid-19/dataset/covid/1.CXRCTThoraximagesofCOVID-19fromSingapore.pdf-001-fig2b.png\n",
      "/Users/malaudeen/Documents/Inceptez/ML-Deployement/keras-covid-19/dataset/covid/16654_2_1.jpg\n",
      "/Users/malaudeen/Documents/Inceptez/ML-Deployement/keras-covid-19/dataset/covid/covid-19-pneumonia-2.jpg\n",
      "/Users/malaudeen/Documents/Inceptez/ML-Deployement/keras-covid-19/dataset/covid/AR-2.jpg\n",
      "/Users/malaudeen/Documents/Inceptez/ML-Deployement/keras-covid-19/dataset/covid/auntminnie-b-2020_01_28_23_51_6665_2020_01_28_Vietnam_coronavirus.jpeg\n",
      "/Users/malaudeen/Documents/Inceptez/ML-Deployement/keras-covid-19/dataset/covid/covid-19-infection-exclusive-gastrointestinal-symptoms-l.png\n",
      "/Users/malaudeen/Documents/Inceptez/ML-Deployement/keras-covid-19/dataset/covid/paving.jpg\n",
      "/Users/malaudeen/Documents/Inceptez/ML-Deployement/keras-covid-19/dataset/covid/gr1_lrg-a.jpg\n",
      "/Users/malaudeen/Documents/Inceptez/ML-Deployement/keras-covid-19/dataset/covid/2-chest-filmc.jpg\n",
      "/Users/malaudeen/Documents/Inceptez/ML-Deployement/keras-covid-19/dataset/covid/1-s2.0-S0929664620300449-gr2_lrg-b.jpg\n",
      "/Users/malaudeen/Documents/Inceptez/ML-Deployement/keras-covid-19/dataset/covid/1.CXRCTThoraximagesofCOVID-19fromSingapore.pdf-001-fig2a.png\n",
      "/Users/malaudeen/Documents/Inceptez/ML-Deployement/keras-covid-19/dataset/covid/covid-19-pneumonia-12.jpg\n",
      "/Users/malaudeen/Documents/Inceptez/ML-Deployement/keras-covid-19/dataset/covid/covid-19-pneumonia-67.jpeg\n",
      "/Users/malaudeen/Documents/Inceptez/ML-Deployement/keras-covid-19/dataset/covid/AR-1.jpg\n",
      "/Users/malaudeen/Documents/Inceptez/ML-Deployement/keras-covid-19/dataset/covid/88de9d8c39e946abd495b37cd07d89e5-6531-0.jpg\n",
      "/Users/malaudeen/Documents/Inceptez/ML-Deployement/keras-covid-19/dataset/covid/1-s2.0-S0929664620300449-gr2_lrg-c.jpg\n",
      "/Users/malaudeen/Documents/Inceptez/ML-Deployement/keras-covid-19/dataset/covid/E63574A7-4188-4C8D-8D17-9D67A18A1AFA.jpeg\n",
      "/Users/malaudeen/Documents/Inceptez/ML-Deployement/keras-covid-19/dataset/covid/radiol.2020200490.fig3.jpeg\n",
      "/Users/malaudeen/Documents/Inceptez/ML-Deployement/keras-covid-19/dataset/covid/gr1_lrg-b.jpg\n",
      "/Users/malaudeen/Documents/Inceptez/ML-Deployement/keras-covid-19/dataset/covid/ryct.2020200028.fig1a.jpeg\n",
      "/Users/malaudeen/Documents/Inceptez/ML-Deployement/keras-covid-19/dataset/covid/1-s2.0-S1684118220300682-main.pdf-002-a1.png\n",
      "/Users/malaudeen/Documents/Inceptez/ML-Deployement/keras-covid-19/dataset/covid/ciaa199.pdf-001-c.png\n",
      "/Users/malaudeen/Documents/Inceptez/ML-Deployement/keras-covid-19/dataset/covid/1.CXRCTThoraximagesofCOVID-19fromSingapore.pdf-002-fig3a.png\n",
      "/Users/malaudeen/Documents/Inceptez/ML-Deployement/keras-covid-19/dataset/covid/ciaa199.pdf-001-b.png\n",
      "/Users/malaudeen/Documents/Inceptez/ML-Deployement/keras-covid-19/dataset/covid/6CB4EFC6-68FA-4CD5-940C-BEFA8DAFE9A7.jpeg\n",
      "/Users/malaudeen/Documents/Inceptez/ML-Deployement/keras-covid-19/dataset/covid/kjr-21-e24-g001-l-a.jpg\n",
      "/Users/malaudeen/Documents/Inceptez/ML-Deployement/keras-covid-19/dataset/covid/ae6c954c0039de4b5edee53865ffee43-e6c8-0.jpg\n",
      "/Users/malaudeen/Documents/Inceptez/ML-Deployement/keras-covid-19/dataset/covid/41591_2020_819_Fig1_HTML.webp-day10.png\n",
      "/Users/malaudeen/Documents/Inceptez/ML-Deployement/keras-covid-19/dataset/covid/9C34AF49-E589-44D5-92D3-168B3B04E4A6.jpeg\n",
      "/Users/malaudeen/Documents/Inceptez/ML-Deployement/keras-covid-19/dataset/covid/1-s2.0-S1684118220300682-main.pdf-002-a2.png\n",
      "/Users/malaudeen/Documents/Inceptez/ML-Deployement/keras-covid-19/dataset/covid/1-s2.0-S0140673620303706-fx1_lrg.jpg\n",
      "/Users/malaudeen/Documents/Inceptez/ML-Deployement/keras-covid-19/dataset/covid/1.CXRCTThoraximagesofCOVID-19fromSingapore.pdf-002-fig3b.png\n",
      "/Users/malaudeen/Documents/Inceptez/ML-Deployement/keras-covid-19/dataset/covid/covid-19-pneumonia-34.png\n"
     ]
    },
    {
     "name": "stdout",
     "output_type": "stream",
     "text": [
      "/Users/malaudeen/Documents/Inceptez/ML-Deployement/keras-covid-19/dataset/covid/53EC07C9-5CC6-4BE4-9B6F-D7B0D72AAA7E.jpeg\n",
      "/Users/malaudeen/Documents/Inceptez/ML-Deployement/keras-covid-19/dataset/covid/ciaa199.pdf-001-a.png\n",
      "/Users/malaudeen/Documents/Inceptez/ML-Deployement/keras-covid-19/dataset/covid/covid-19-pneumonia-20.jpg\n",
      "/Users/malaudeen/Documents/Inceptez/ML-Deployement/keras-covid-19/dataset/covid/16664_1_1.jpg\n",
      "/Users/malaudeen/Documents/Inceptez/ML-Deployement/keras-covid-19/dataset/covid/covid-19-infection-exclusive-gastrointestinal-symptoms-pa.png\n",
      "/Users/malaudeen/Documents/Inceptez/ML-Deployement/keras-covid-19/dataset/covid/1312A392-67A3-4EBF-9319-810CF6DA5EF6.jpeg\n",
      "/Users/malaudeen/Documents/Inceptez/ML-Deployement/keras-covid-19/dataset/covid/88de9d8c39e946abd495b37cd07d89e5-2ee6-0.jpg\n",
      "/Users/malaudeen/Documents/Inceptez/ML-Deployement/keras-covid-19/dataset/covid/01E392EE-69F9-4E33-BFCE-E5C968654078.jpeg\n",
      "/Users/malaudeen/Documents/Inceptez/ML-Deployement/keras-covid-19/dataset/covid/93FE0BB1-022D-4F24-9727-987A07975FFB.jpeg\n",
      "/Users/malaudeen/Documents/Inceptez/ML-Deployement/keras-covid-19/dataset/covid/kjr-21-e25-g001-l-a.jpg\n",
      "/Users/malaudeen/Documents/Inceptez/ML-Deployement/keras-covid-19/dataset/covid/6C94A287-C059-46A0-8600-AFB95F4727B7.jpeg\n",
      "/Users/malaudeen/Documents/Inceptez/ML-Deployement/keras-covid-19/dataset/covid/covid-19-pneumonia-22-day1-pa.png\n",
      "/Users/malaudeen/Documents/Inceptez/ML-Deployement/keras-covid-19/dataset/covid/covid-19-pneumonia-19.jpg\n",
      "/Users/malaudeen/Documents/Inceptez/ML-Deployement/keras-covid-19/dataset/covid/2966893D-5DDF-4B68-9E2B-4979D5956C8E.jpeg\n",
      "/Users/malaudeen/Documents/Inceptez/ML-Deployement/keras-covid-19/dataset/covid/1.CXRCTThoraximagesofCOVID-19fromSingapore.pdf-003-fig4a.png\n",
      "/Users/malaudeen/Documents/Inceptez/ML-Deployement/keras-covid-19/dataset/covid/covid-19-pneumonia-bilateral.jpg\n",
      "/Users/malaudeen/Documents/Inceptez/ML-Deployement/keras-covid-19/dataset/covid/FE9F9A5D-2830-46F9-851B-1FF4534959BE.jpeg\n",
      "/Users/malaudeen/Documents/Inceptez/ML-Deployement/keras-covid-19/dataset/covid/nejmoa2001191_f3-PA.jpeg\n",
      "/Users/malaudeen/Documents/Inceptez/ML-Deployement/keras-covid-19/dataset/covid/covid-19-pneumonia-58-day-9.jpg\n",
      "/Users/malaudeen/Documents/Inceptez/ML-Deployement/keras-covid-19/dataset/covid/all14238-fig-0001-m-b.jpg\n",
      "/Users/malaudeen/Documents/Inceptez/ML-Deployement/keras-covid-19/dataset/covid/covid-19-pneumonia-15-PA.jpg\n",
      "/Users/malaudeen/Documents/Inceptez/ML-Deployement/keras-covid-19/dataset/covid/radiopedia-covid-19-pneumonia-2.jpg\n",
      "/Users/malaudeen/Documents/Inceptez/ML-Deployement/keras-covid-19/dataset/covid/ryct.2020200034.fig5-day7.jpeg\n",
      "/Users/malaudeen/Documents/Inceptez/ML-Deployement/keras-covid-19/dataset/covid/covid-19-pneumonia-8.jpg\n",
      "/Users/malaudeen/Documents/Inceptez/ML-Deployement/keras-covid-19/dataset/covid/all14238-fig-0001-m-c.jpg\n",
      "/Users/malaudeen/Documents/Inceptez/ML-Deployement/keras-covid-19/dataset/covid/1.CXRCTThoraximagesofCOVID-19fromSingapore.pdf-003-fig4b.png\n",
      "/Users/malaudeen/Documents/Inceptez/ML-Deployement/keras-covid-19/dataset/covid/353889E0-A1E8-4F9E-A0B8-F24F36BCFBFB.jpeg\n",
      "/Users/malaudeen/Documents/Inceptez/ML-Deployement/keras-covid-19/dataset/covid/80446565-E090-4187-A031-9D3CEAA586C8.jpeg\n",
      "/Users/malaudeen/Documents/Inceptez/ML-Deployement/keras-covid-19/dataset/covid/F2DE909F-E19C-4900-92F5-8F435B031AC6.jpeg\n",
      "/Users/malaudeen/Documents/Inceptez/ML-Deployement/keras-covid-19/dataset/covid/nejmoa2001191_f4.jpeg\n",
      "/Users/malaudeen/Documents/Inceptez/ML-Deployement/keras-covid-19/dataset/covid/1.CXRCTThoraximagesofCOVID-19fromSingapore.pdf-000-fig1a.png\n",
      "/Users/malaudeen/Documents/Inceptez/ML-Deployement/keras-covid-19/dataset/covid/2C26F453-AF3B-4517-BB9E-802CF2179543.jpeg\n",
      "/Users/malaudeen/Documents/Inceptez/ML-Deployement/keras-covid-19/dataset/covid/6b44464d-73a7-4cf3-bbb6-ffe7168300e3.annot.original.jpeg\n",
      "/Users/malaudeen/Documents/Inceptez/ML-Deployement/keras-covid-19/dataset/covid/extubation-1.jpg\n",
      "/Users/malaudeen/Documents/Inceptez/ML-Deployement/keras-covid-19/dataset/covid/figure1-5e71be566aa8714a04de3386-98-left.jpeg\n",
      "/Users/malaudeen/Documents/Inceptez/ML-Deployement/keras-covid-19/dataset/covid/6b3bdbc31f65230b8cdcc3cef5f8ba8a-40ac-0.jpg\n",
      "/Users/malaudeen/Documents/Inceptez/ML-Deployement/keras-covid-19/dataset/covid/1.CXRCTThoraximagesofCOVID-19fromSingapore.pdf-000-fig1b.png\n",
      "/Users/malaudeen/Documents/Inceptez/ML-Deployement/keras-covid-19/dataset/covid/nejmc2001573_f1b.jpeg\n",
      "/Users/malaudeen/Documents/Inceptez/ML-Deployement/keras-covid-19/dataset/covid/yxppt-2020-02-19_00-51-27_287214-day8.jpg\n",
      "/Users/malaudeen/Documents/Inceptez/ML-Deployement/keras-covid-19/dataset/covid/nejmoa2001191_f1-PA.jpeg\n",
      "/Users/malaudeen/Documents/Inceptez/ML-Deployement/keras-covid-19/dataset/covid/7AF6C1AF-D249-4BD2-8C26-449304105D03.jpeg\n",
      "/Users/malaudeen/Documents/Inceptez/ML-Deployement/keras-covid-19/dataset/covid/ryct.2020200034.fig5-day0.jpeg\n",
      "/Users/malaudeen/Documents/Inceptez/ML-Deployement/keras-covid-19/dataset/covid/kjr-21-e24-g002-l-a.jpg\n",
      "/Users/malaudeen/Documents/Inceptez/ML-Deployement/keras-covid-19/dataset/covid/85E52EB3-56E9-4D67-82DA-DEA247C82886.jpeg\n",
      "/Users/malaudeen/Documents/Inceptez/ML-Deployement/keras-covid-19/dataset/covid/auntminnie-d-2020_01_28_23_51_6665_2020_01_28_Vietnam_coronavirus.jpeg\n",
      "/Users/malaudeen/Documents/Inceptez/ML-Deployement/keras-covid-19/dataset/covid/B2D20576-00B7-4519-A415-72DE29C90C34.jpeg\n",
      "/Users/malaudeen/Documents/Inceptez/ML-Deployement/keras-covid-19/dataset/covid/58cb9263f16e94305c730685358e4e_jumbo.jpeg\n",
      "/Users/malaudeen/Documents/Inceptez/ML-Deployement/keras-covid-19/dataset/covid/ryct.2020200034.fig2.jpeg\n",
      "/Users/malaudeen/Documents/Inceptez/ML-Deployement/keras-covid-19/dataset/covid/covid-19-caso-70-1-PA.jpg\n",
      "/Users/malaudeen/Documents/Inceptez/ML-Deployement/keras-covid-19/dataset/covid/covid-19-pneumonia-53.jpg\n",
      "/Users/malaudeen/Documents/Inceptez/ML-Deployement/keras-covid-19/dataset/covid/kjr-21-e24-g003-l-a.jpg\n",
      "/Users/malaudeen/Documents/Inceptez/ML-Deployement/keras-covid-19/dataset/covid/1-s2.0-S1684118220300608-main.pdf-001.jpg\n",
      "/Users/malaudeen/Documents/Inceptez/ML-Deployement/keras-covid-19/dataset/covid/F4341CE7-73C9-45C6-99C8-8567A5484B63.jpeg\n",
      "/Users/malaudeen/Documents/Inceptez/ML-Deployement/keras-covid-19/dataset/covid/CD50BA96-6982-4C80-AE7B-5F67ACDBFA56.jpeg\n",
      "/Users/malaudeen/Documents/Inceptez/ML-Deployement/keras-covid-19/dataset/covid/41591_2020_819_Fig1_HTML.webp-day5.png\n",
      "/Users/malaudeen/Documents/Inceptez/ML-Deployement/keras-covid-19/dataset/covid/covid-19-pneumonia-mild.JPG\n",
      "/Users/malaudeen/Documents/Inceptez/ML-Deployement/keras-covid-19/dataset/covid/1-s2.0-S1684118220300682-main.pdf-003-b1.png\n",
      "/Users/malaudeen/Documents/Inceptez/ML-Deployement/keras-covid-19/dataset/covid/fff49165-b22d-4bb4-b9d1-d5d62c52436c.annot.original.png\n",
      "/Users/malaudeen/Documents/Inceptez/ML-Deployement/keras-covid-19/dataset/covid/extubation-4.jpg\n",
      "/Users/malaudeen/Documents/Inceptez/ML-Deployement/keras-covid-19/dataset/covid/1-s2.0-S1684118220300608-main.pdf-002.jpg\n",
      "/Users/malaudeen/Documents/Inceptez/ML-Deployement/keras-covid-19/dataset/covid/1-s2.0-S1684118220300682-main.pdf-003-b2.png\n"
     ]
    }
   ],
   "source": [
    "from tensorflow.keras.preprocessing.image import ImageDataGenerator\n",
    "from tensorflow.keras.applications import VGG16\n",
    "from tensorflow.keras.layers import AveragePooling2D\n",
    "from tensorflow.keras.layers import Dropout\n",
    "from tensorflow.keras.layers import Flatten\n",
    "from tensorflow.keras.layers import Dense\n",
    "from tensorflow.keras.layers import Input\n",
    "from tensorflow.keras.models import Model\n",
    "from tensorflow.keras.optimizers import Adam\n",
    "from tensorflow.keras.utils import to_categorical\n",
    "from sklearn.preprocessing import LabelBinarizer\n",
    "from sklearn.model_selection import train_test_split\n",
    "from sklearn.metrics import classification_report\n",
    "from sklearn.metrics import confusion_matrix\n",
    "from imutils import paths\n",
    "import matplotlib.pyplot as plt\n",
    "import numpy as np\n",
    "import argparse\n",
    "import cv2\n",
    "import os\n",
    "\n",
    "# construct the argument parser and parse the arguments\n",
    "\n",
    "path = \"/Users/malaudeen/Documents/Inceptez/ML-Deployement/keras-covid-19/dataset/\"\n",
    "\n",
    "# initialize the initial learning rate, number of epochs to train for,\n",
    "# and batch size\n",
    "INIT_LR = 1e-3\n",
    "EPOCHS = 25\n",
    "BS = 8\n",
    "\n",
    "# grab the list of images in our dataset directory, then initialize\n",
    "# the list of data (i.e., images) and class images\n",
    "print(\"[INFO] loading images...\")\n",
    "imagePaths = list(paths.list_images(path))\n",
    "data = []\n",
    "labels = []\n",
    "\n",
    "# loop over the image paths\n",
    "for imagePath in imagePaths:\n",
    "    # extract the class label from the filename\n",
    "    label = imagePath.split(os.path.sep)[-2]\n",
    "    # load the image, swap color channels, and resize it to be a fixed\n",
    "    # 224x224 pixels while ignoring aspect ratio\n",
    "    print(imagePath)\n",
    "    image = cv2.imread(imagePath)\n",
    "    image = cv2.cvtColor(image, cv2.COLOR_BGR2RGB)\n",
    "    image = cv2.resize(image, (224, 224))\n",
    "\n",
    "    # update the data and labels lists, respectively\n",
    "    data.append(image)\n",
    "    labels.append(label)\n",
    "\n",
    "# convert the data and labels to NumPy arrays while scaling the pixel\n",
    "# intensities to the range [0, 255]\n",
    "data = np.array(data) / 255.0\n",
    "labels = np.array(labels)\n"
   ]
  },
  {
   "cell_type": "code",
   "execution_count": 2,
   "metadata": {
    "ExecuteTime": {
     "end_time": "2020-06-27T21:11:18.608582Z",
     "start_time": "2020-06-27T21:11:18.600336Z"
    }
   },
   "outputs": [
    {
     "data": {
      "text/plain": [
       "array(['normal', 'normal', 'normal', 'normal', 'normal', 'normal',\n",
       "       'normal', 'normal', 'normal', 'normal', 'normal', 'normal',\n",
       "       'normal', 'normal', 'normal', 'normal', 'normal', 'normal',\n",
       "       'normal', 'normal', 'normal', 'normal', 'normal', 'normal',\n",
       "       'normal', 'normal', 'normal', 'normal', 'normal', 'normal',\n",
       "       'normal', 'normal', 'normal', 'normal', 'normal', 'normal',\n",
       "       'normal', 'normal', 'normal', 'normal', 'normal', 'normal',\n",
       "       'normal', 'normal', 'normal', 'normal', 'normal', 'normal',\n",
       "       'normal', 'normal', 'normal', 'normal', 'normal', 'normal',\n",
       "       'normal', 'normal', 'normal', 'normal', 'normal', 'normal',\n",
       "       'normal', 'normal', 'normal', 'normal', 'normal', 'normal',\n",
       "       'normal', 'normal', 'normal', 'normal', 'normal', 'normal',\n",
       "       'normal', 'normal', 'normal', 'normal', 'normal', 'normal',\n",
       "       'normal', 'normal', 'normal', 'normal', 'normal', 'normal',\n",
       "       'normal', 'normal', 'normal', 'normal', 'normal', 'normal',\n",
       "       'normal', 'normal', 'normal', 'normal', 'normal', 'normal',\n",
       "       'normal', 'normal', 'normal', 'normal', 'normal', 'normal',\n",
       "       'normal', 'normal', 'normal', 'normal', 'normal', 'normal',\n",
       "       'normal', 'normal', 'normal', 'normal', 'normal', 'normal',\n",
       "       'normal', 'normal', 'normal', 'normal', 'normal', 'normal',\n",
       "       'normal', 'normal', 'normal', 'normal', 'normal', 'normal',\n",
       "       'normal', 'normal', 'normal', 'normal', 'normal', 'normal',\n",
       "       'normal', 'normal', 'normal', 'normal', 'normal', 'normal',\n",
       "       'normal', 'normal', 'normal', 'normal', 'normal', 'normal',\n",
       "       'normal', 'normal', 'normal', 'normal', 'normal', 'normal',\n",
       "       'normal', 'normal', 'normal', 'normal', 'normal', 'normal',\n",
       "       'normal', 'normal', 'normal', 'normal', 'normal', 'normal',\n",
       "       'normal', 'normal', 'normal', 'normal', 'covid', 'covid', 'covid',\n",
       "       'covid', 'covid', 'covid', 'covid', 'covid', 'covid', 'covid',\n",
       "       'covid', 'covid', 'covid', 'covid', 'covid', 'covid', 'covid',\n",
       "       'covid', 'covid', 'covid', 'covid', 'covid', 'covid', 'covid',\n",
       "       'covid', 'covid', 'covid', 'covid', 'covid', 'covid', 'covid',\n",
       "       'covid', 'covid', 'covid', 'covid', 'covid', 'covid', 'covid',\n",
       "       'covid', 'covid', 'covid', 'covid', 'covid', 'covid', 'covid',\n",
       "       'covid', 'covid', 'covid', 'covid', 'covid', 'covid', 'covid',\n",
       "       'covid', 'covid', 'covid', 'covid', 'covid', 'covid', 'covid',\n",
       "       'covid', 'covid', 'covid', 'covid', 'covid', 'covid', 'covid',\n",
       "       'covid', 'covid', 'covid', 'covid', 'covid', 'covid', 'covid',\n",
       "       'covid', 'covid', 'covid', 'covid', 'covid', 'covid', 'covid',\n",
       "       'covid', 'covid', 'covid', 'covid', 'covid', 'covid', 'covid',\n",
       "       'covid', 'covid', 'covid', 'covid', 'covid', 'covid', 'covid',\n",
       "       'covid', 'covid', 'covid', 'covid', 'covid', 'covid', 'covid',\n",
       "       'covid', 'covid', 'covid', 'covid', 'covid', 'covid', 'covid',\n",
       "       'covid', 'covid', 'covid', 'covid', 'covid', 'covid', 'covid',\n",
       "       'covid', 'covid', 'covid', 'covid', 'covid', 'covid', 'covid',\n",
       "       'covid', 'covid', 'covid', 'covid', 'covid', 'covid', 'covid',\n",
       "       'covid', 'covid', 'covid', 'covid', 'covid', 'covid', 'covid',\n",
       "       'covid', 'covid', 'covid', 'covid', 'covid', 'covid', 'covid'],\n",
       "      dtype='<U6')"
      ]
     },
     "execution_count": 2,
     "metadata": {},
     "output_type": "execute_result"
    }
   ],
   "source": [
    "labels"
   ]
  },
  {
   "cell_type": "code",
   "execution_count": 3,
   "metadata": {
    "ExecuteTime": {
     "end_time": "2020-06-27T21:11:18.614277Z",
     "start_time": "2020-06-27T21:11:18.609991Z"
    }
   },
   "outputs": [],
   "source": [
    "# perform one-hot encoding on the labels\n",
    "lb = LabelBinarizer()\n",
    "labels = lb.fit_transform(labels)\n",
    "labels = to_categorical(labels)\n"
   ]
  },
  {
   "cell_type": "code",
   "execution_count": 4,
   "metadata": {
    "ExecuteTime": {
     "end_time": "2020-06-27T21:11:18.628229Z",
     "start_time": "2020-06-27T21:11:18.615991Z"
    }
   },
   "outputs": [
    {
     "data": {
      "text/plain": [
       "array([[0., 1.],\n",
       "       [0., 1.],\n",
       "       [0., 1.],\n",
       "       [0., 1.],\n",
       "       [0., 1.],\n",
       "       [0., 1.],\n",
       "       [0., 1.],\n",
       "       [0., 1.],\n",
       "       [0., 1.],\n",
       "       [0., 1.],\n",
       "       [0., 1.],\n",
       "       [0., 1.],\n",
       "       [0., 1.],\n",
       "       [0., 1.],\n",
       "       [0., 1.],\n",
       "       [0., 1.],\n",
       "       [0., 1.],\n",
       "       [0., 1.],\n",
       "       [0., 1.],\n",
       "       [0., 1.],\n",
       "       [0., 1.],\n",
       "       [0., 1.],\n",
       "       [0., 1.],\n",
       "       [0., 1.],\n",
       "       [0., 1.],\n",
       "       [0., 1.],\n",
       "       [0., 1.],\n",
       "       [0., 1.],\n",
       "       [0., 1.],\n",
       "       [0., 1.],\n",
       "       [0., 1.],\n",
       "       [0., 1.],\n",
       "       [0., 1.],\n",
       "       [0., 1.],\n",
       "       [0., 1.],\n",
       "       [0., 1.],\n",
       "       [0., 1.],\n",
       "       [0., 1.],\n",
       "       [0., 1.],\n",
       "       [0., 1.],\n",
       "       [0., 1.],\n",
       "       [0., 1.],\n",
       "       [0., 1.],\n",
       "       [0., 1.],\n",
       "       [0., 1.],\n",
       "       [0., 1.],\n",
       "       [0., 1.],\n",
       "       [0., 1.],\n",
       "       [0., 1.],\n",
       "       [0., 1.],\n",
       "       [0., 1.],\n",
       "       [0., 1.],\n",
       "       [0., 1.],\n",
       "       [0., 1.],\n",
       "       [0., 1.],\n",
       "       [0., 1.],\n",
       "       [0., 1.],\n",
       "       [0., 1.],\n",
       "       [0., 1.],\n",
       "       [0., 1.],\n",
       "       [0., 1.],\n",
       "       [0., 1.],\n",
       "       [0., 1.],\n",
       "       [0., 1.],\n",
       "       [0., 1.],\n",
       "       [0., 1.],\n",
       "       [0., 1.],\n",
       "       [0., 1.],\n",
       "       [0., 1.],\n",
       "       [0., 1.],\n",
       "       [0., 1.],\n",
       "       [0., 1.],\n",
       "       [0., 1.],\n",
       "       [0., 1.],\n",
       "       [0., 1.],\n",
       "       [0., 1.],\n",
       "       [0., 1.],\n",
       "       [0., 1.],\n",
       "       [0., 1.],\n",
       "       [0., 1.],\n",
       "       [0., 1.],\n",
       "       [0., 1.],\n",
       "       [0., 1.],\n",
       "       [0., 1.],\n",
       "       [0., 1.],\n",
       "       [0., 1.],\n",
       "       [0., 1.],\n",
       "       [0., 1.],\n",
       "       [0., 1.],\n",
       "       [0., 1.],\n",
       "       [0., 1.],\n",
       "       [0., 1.],\n",
       "       [0., 1.],\n",
       "       [0., 1.],\n",
       "       [0., 1.],\n",
       "       [0., 1.],\n",
       "       [0., 1.],\n",
       "       [0., 1.],\n",
       "       [0., 1.],\n",
       "       [0., 1.],\n",
       "       [0., 1.],\n",
       "       [0., 1.],\n",
       "       [0., 1.],\n",
       "       [0., 1.],\n",
       "       [0., 1.],\n",
       "       [0., 1.],\n",
       "       [0., 1.],\n",
       "       [0., 1.],\n",
       "       [0., 1.],\n",
       "       [0., 1.],\n",
       "       [0., 1.],\n",
       "       [0., 1.],\n",
       "       [0., 1.],\n",
       "       [0., 1.],\n",
       "       [0., 1.],\n",
       "       [0., 1.],\n",
       "       [0., 1.],\n",
       "       [0., 1.],\n",
       "       [0., 1.],\n",
       "       [0., 1.],\n",
       "       [0., 1.],\n",
       "       [0., 1.],\n",
       "       [0., 1.],\n",
       "       [0., 1.],\n",
       "       [0., 1.],\n",
       "       [0., 1.],\n",
       "       [0., 1.],\n",
       "       [0., 1.],\n",
       "       [0., 1.],\n",
       "       [0., 1.],\n",
       "       [0., 1.],\n",
       "       [0., 1.],\n",
       "       [0., 1.],\n",
       "       [0., 1.],\n",
       "       [0., 1.],\n",
       "       [0., 1.],\n",
       "       [0., 1.],\n",
       "       [0., 1.],\n",
       "       [0., 1.],\n",
       "       [0., 1.],\n",
       "       [0., 1.],\n",
       "       [0., 1.],\n",
       "       [0., 1.],\n",
       "       [0., 1.],\n",
       "       [0., 1.],\n",
       "       [0., 1.],\n",
       "       [0., 1.],\n",
       "       [0., 1.],\n",
       "       [0., 1.],\n",
       "       [0., 1.],\n",
       "       [0., 1.],\n",
       "       [0., 1.],\n",
       "       [0., 1.],\n",
       "       [0., 1.],\n",
       "       [0., 1.],\n",
       "       [0., 1.],\n",
       "       [0., 1.],\n",
       "       [0., 1.],\n",
       "       [0., 1.],\n",
       "       [0., 1.],\n",
       "       [0., 1.],\n",
       "       [0., 1.],\n",
       "       [0., 1.],\n",
       "       [0., 1.],\n",
       "       [0., 1.],\n",
       "       [0., 1.],\n",
       "       [1., 0.],\n",
       "       [1., 0.],\n",
       "       [1., 0.],\n",
       "       [1., 0.],\n",
       "       [1., 0.],\n",
       "       [1., 0.],\n",
       "       [1., 0.],\n",
       "       [1., 0.],\n",
       "       [1., 0.],\n",
       "       [1., 0.],\n",
       "       [1., 0.],\n",
       "       [1., 0.],\n",
       "       [1., 0.],\n",
       "       [1., 0.],\n",
       "       [1., 0.],\n",
       "       [1., 0.],\n",
       "       [1., 0.],\n",
       "       [1., 0.],\n",
       "       [1., 0.],\n",
       "       [1., 0.],\n",
       "       [1., 0.],\n",
       "       [1., 0.],\n",
       "       [1., 0.],\n",
       "       [1., 0.],\n",
       "       [1., 0.],\n",
       "       [1., 0.],\n",
       "       [1., 0.],\n",
       "       [1., 0.],\n",
       "       [1., 0.],\n",
       "       [1., 0.],\n",
       "       [1., 0.],\n",
       "       [1., 0.],\n",
       "       [1., 0.],\n",
       "       [1., 0.],\n",
       "       [1., 0.],\n",
       "       [1., 0.],\n",
       "       [1., 0.],\n",
       "       [1., 0.],\n",
       "       [1., 0.],\n",
       "       [1., 0.],\n",
       "       [1., 0.],\n",
       "       [1., 0.],\n",
       "       [1., 0.],\n",
       "       [1., 0.],\n",
       "       [1., 0.],\n",
       "       [1., 0.],\n",
       "       [1., 0.],\n",
       "       [1., 0.],\n",
       "       [1., 0.],\n",
       "       [1., 0.],\n",
       "       [1., 0.],\n",
       "       [1., 0.],\n",
       "       [1., 0.],\n",
       "       [1., 0.],\n",
       "       [1., 0.],\n",
       "       [1., 0.],\n",
       "       [1., 0.],\n",
       "       [1., 0.],\n",
       "       [1., 0.],\n",
       "       [1., 0.],\n",
       "       [1., 0.],\n",
       "       [1., 0.],\n",
       "       [1., 0.],\n",
       "       [1., 0.],\n",
       "       [1., 0.],\n",
       "       [1., 0.],\n",
       "       [1., 0.],\n",
       "       [1., 0.],\n",
       "       [1., 0.],\n",
       "       [1., 0.],\n",
       "       [1., 0.],\n",
       "       [1., 0.],\n",
       "       [1., 0.],\n",
       "       [1., 0.],\n",
       "       [1., 0.],\n",
       "       [1., 0.],\n",
       "       [1., 0.],\n",
       "       [1., 0.],\n",
       "       [1., 0.],\n",
       "       [1., 0.],\n",
       "       [1., 0.],\n",
       "       [1., 0.],\n",
       "       [1., 0.],\n",
       "       [1., 0.],\n",
       "       [1., 0.],\n",
       "       [1., 0.],\n",
       "       [1., 0.],\n",
       "       [1., 0.],\n",
       "       [1., 0.],\n",
       "       [1., 0.],\n",
       "       [1., 0.],\n",
       "       [1., 0.],\n",
       "       [1., 0.],\n",
       "       [1., 0.],\n",
       "       [1., 0.],\n",
       "       [1., 0.],\n",
       "       [1., 0.],\n",
       "       [1., 0.],\n",
       "       [1., 0.],\n",
       "       [1., 0.],\n",
       "       [1., 0.],\n",
       "       [1., 0.],\n",
       "       [1., 0.],\n",
       "       [1., 0.],\n",
       "       [1., 0.],\n",
       "       [1., 0.],\n",
       "       [1., 0.],\n",
       "       [1., 0.],\n",
       "       [1., 0.],\n",
       "       [1., 0.],\n",
       "       [1., 0.],\n",
       "       [1., 0.],\n",
       "       [1., 0.],\n",
       "       [1., 0.],\n",
       "       [1., 0.],\n",
       "       [1., 0.],\n",
       "       [1., 0.],\n",
       "       [1., 0.],\n",
       "       [1., 0.],\n",
       "       [1., 0.],\n",
       "       [1., 0.],\n",
       "       [1., 0.],\n",
       "       [1., 0.],\n",
       "       [1., 0.],\n",
       "       [1., 0.],\n",
       "       [1., 0.],\n",
       "       [1., 0.],\n",
       "       [1., 0.],\n",
       "       [1., 0.],\n",
       "       [1., 0.],\n",
       "       [1., 0.],\n",
       "       [1., 0.],\n",
       "       [1., 0.],\n",
       "       [1., 0.],\n",
       "       [1., 0.],\n",
       "       [1., 0.],\n",
       "       [1., 0.],\n",
       "       [1., 0.],\n",
       "       [1., 0.],\n",
       "       [1., 0.],\n",
       "       [1., 0.],\n",
       "       [1., 0.],\n",
       "       [1., 0.]], dtype=float32)"
      ]
     },
     "execution_count": 4,
     "metadata": {},
     "output_type": "execute_result"
    }
   ],
   "source": [
    "labels"
   ]
  },
  {
   "cell_type": "code",
   "execution_count": 5,
   "metadata": {
    "ExecuteTime": {
     "end_time": "2020-06-27T21:11:18.633510Z",
     "start_time": "2020-06-27T21:11:18.629654Z"
    }
   },
   "outputs": [
    {
     "data": {
      "text/plain": [
       "(309, 2)"
      ]
     },
     "execution_count": 5,
     "metadata": {},
     "output_type": "execute_result"
    }
   ],
   "source": [
    "labels.shape"
   ]
  },
  {
   "cell_type": "code",
   "execution_count": 6,
   "metadata": {
    "ExecuteTime": {
     "end_time": "2020-06-27T21:11:25.815573Z",
     "start_time": "2020-06-27T21:11:25.590104Z"
    }
   },
   "outputs": [],
   "source": [
    "# partition the data into training and testing splits using 80% of\n",
    "# the data for training and the remaining 20% for testing\n",
    "(trainX, testX, trainY, testY) = train_test_split(data, labels,\n",
    "\ttest_size=0.20,  random_state=42)"
   ]
  },
  {
   "cell_type": "code",
   "execution_count": 14,
   "metadata": {
    "ExecuteTime": {
     "end_time": "2020-06-27T21:30:30.009847Z",
     "start_time": "2020-06-27T21:30:29.946463Z"
    }
   },
   "outputs": [
    {
     "name": "stderr",
     "output_type": "stream",
     "text": [
      "Using TensorFlow backend.\n"
     ]
    }
   ],
   "source": [
    "from keras.models import Sequential\n",
    "from keras import optimizers\n",
    "from keras.layers import Dense, Activation, Flatten, Conv2D, MaxPooling2D"
   ]
  },
  {
   "cell_type": "markdown",
   "metadata": {
    "collapsed": true
   },
   "source": [
    "### 1. Creating model\n",
    "- Creating a model is same with MLP (Sequential)"
   ]
  },
  {
   "cell_type": "code",
   "execution_count": 26,
   "metadata": {
    "ExecuteTime": {
     "end_time": "2020-06-27T21:31:13.039090Z",
     "start_time": "2020-06-27T21:31:13.036216Z"
    }
   },
   "outputs": [],
   "source": [
    "model = Sequential()"
   ]
  },
  {
   "cell_type": "markdown",
   "metadata": {},
   "source": [
    "### 2. Convolutional Layer\n",
    "- In general, 2D convolutional layer is used for image processing\n",
    "    - Size of filter (designated by 'kernel_size' parameter) defines **width and height of receptive field **\n",
    "    - Number of filters (designated by 'filters' parameter) is equal to **depth of the next layer**\n",
    "    - Strides (designated by 'strides' parameter) is** how far a filter makes change in its position** for each move\n",
    "    - Image can be **zero-padded** in order to prevent getting too small (designated by 'padding' parameter)\n",
    "- Doc: https://keras.io/layers/convolutional/\n",
    "<img src=\"http://cs231n.github.io/assets/cnn/depthcol.jpeg\" style=\"width: 400px\"/>"
   ]
  },
  {
   "cell_type": "code",
   "execution_count": 27,
   "metadata": {
    "ExecuteTime": {
     "end_time": "2020-06-27T21:31:13.581070Z",
     "start_time": "2020-06-27T21:31:13.578132Z"
    }
   },
   "outputs": [],
   "source": [
    "input_shape = (trainX.shape[1], trainX.shape[2], trainX.shape[3])"
   ]
  },
  {
   "cell_type": "code",
   "execution_count": 28,
   "metadata": {
    "ExecuteTime": {
     "end_time": "2020-06-27T21:31:13.864194Z",
     "start_time": "2020-06-27T21:31:13.860972Z"
    }
   },
   "outputs": [
    {
     "data": {
      "text/plain": [
       "(224, 224, 3)"
      ]
     },
     "execution_count": 28,
     "metadata": {},
     "output_type": "execute_result"
    }
   ],
   "source": [
    "input_shape"
   ]
  },
  {
   "cell_type": "code",
   "execution_count": 29,
   "metadata": {
    "ExecuteTime": {
     "end_time": "2020-06-27T21:31:14.161771Z",
     "start_time": "2020-06-27T21:31:14.153447Z"
    }
   },
   "outputs": [],
   "source": [
    "# convolution layer\n",
    "model.add(Conv2D(input_shape = (trainX.shape[1], trainX.shape[2], trainX.shape[3]), filters = 10, kernel_size = (3,3), strides = (1,1), padding = 'valid'))\n"
   ]
  },
  {
   "cell_type": "markdown",
   "metadata": {},
   "source": [
    "### 3. Activation Layer\n",
    "- Identical to the activation layers in MLP\n",
    "- In general, relu is used as well\n",
    "- Doc: http://cs231n.github.io/assets/cnn/depthcol.jpeg"
   ]
  },
  {
   "cell_type": "code",
   "execution_count": 30,
   "metadata": {
    "ExecuteTime": {
     "end_time": "2020-06-27T21:31:14.754292Z",
     "start_time": "2020-06-27T21:31:14.750604Z"
    }
   },
   "outputs": [],
   "source": [
    "model.add(Activation('relu'))"
   ]
  },
  {
   "cell_type": "markdown",
   "metadata": {},
   "source": [
    "### 4. Pooling layer\n",
    "- In general, max pooling method is used\n",
    "- Reduces number of parameters\n",
    "- Doc: https://keras.io/layers/pooling/\n",
    "<img src=\"http://cs231n.github.io/assets/cnn/maxpool.jpeg\" style=\"width: 600px\"/>"
   ]
  },
  {
   "cell_type": "code",
   "execution_count": 31,
   "metadata": {
    "ExecuteTime": {
     "end_time": "2020-06-27T21:31:15.435567Z",
     "start_time": "2020-06-27T21:31:15.430344Z"
    }
   },
   "outputs": [],
   "source": [
    "model.add(MaxPooling2D(pool_size = (2,2)))"
   ]
  },
  {
   "cell_type": "markdown",
   "metadata": {},
   "source": [
    "### 5. Dense (fully connected layer)\n",
    "- Convolutional & pooling layers can be connected to dense layers\n",
    "- Sometimes, dense layers can be omitted\n",
    "- Doc: https://keras.io/layers/core/"
   ]
  },
  {
   "cell_type": "code",
   "execution_count": 32,
   "metadata": {
    "ExecuteTime": {
     "end_time": "2020-06-27T21:31:16.878769Z",
     "start_time": "2020-06-27T21:31:16.871275Z"
    }
   },
   "outputs": [],
   "source": [
    "# prior layer should be flattend to be connected to dense layers\n",
    "model.add(Flatten())"
   ]
  },
  {
   "cell_type": "code",
   "execution_count": 33,
   "metadata": {
    "ExecuteTime": {
     "end_time": "2020-06-27T21:31:17.686061Z",
     "start_time": "2020-06-27T21:31:17.665266Z"
    }
   },
   "outputs": [],
   "source": [
    "# dense layer with 50 neurons\n",
    "model.add(Dense(50, activation = 'relu'))"
   ]
  },
  {
   "cell_type": "code",
   "execution_count": 34,
   "metadata": {
    "ExecuteTime": {
     "end_time": "2020-06-27T21:31:18.204384Z",
     "start_time": "2020-06-27T21:31:18.197253Z"
    }
   },
   "outputs": [],
   "source": [
    "# final layer with 10 neurons to classify the instances\n",
    "model.add(Dense(2, activation = 'softmax'))"
   ]
  },
  {
   "cell_type": "markdown",
   "metadata": {},
   "source": [
    "### 6. Model compile & train\n",
    "- Identical to compiling MLP models"
   ]
  },
  {
   "cell_type": "code",
   "execution_count": 35,
   "metadata": {
    "ExecuteTime": {
     "end_time": "2020-06-27T21:31:19.578525Z",
     "start_time": "2020-06-27T21:31:19.551230Z"
    }
   },
   "outputs": [],
   "source": [
    "adam = optimizers.Adam(lr = 0.001)\n",
    "model.compile(loss = 'categorical_crossentropy', optimizer = adam, metrics = ['accuracy'])"
   ]
  },
  {
   "cell_type": "code",
   "execution_count": 36,
   "metadata": {
    "ExecuteTime": {
     "end_time": "2020-06-27T21:33:24.077994Z",
     "start_time": "2020-06-27T21:31:20.239935Z"
    }
   },
   "outputs": [],
   "source": [
    "history = model.fit(trainX, trainY, batch_size = 50, validation_split = 0.2, epochs = 100, verbose = 0)"
   ]
  },
  {
   "cell_type": "code",
   "execution_count": 37,
   "metadata": {
    "ExecuteTime": {
     "end_time": "2020-06-27T21:34:24.335610Z",
     "start_time": "2020-06-27T21:34:24.218524Z"
    }
   },
   "outputs": [
    {
     "data": {
      "image/png": "[encoded data removed]",
      "text/plain": [
       "<Figure size 432x288 with 1 Axes>"
      ]
     },
     "metadata": {},
     "output_type": "display_data"
    }
   ],
   "source": [
    "plt.plot(history.history['accuracy'])\n",
    "plt.plot(history.history['val_accuracy'])\n",
    "plt.legend(['training', 'validation'], loc = 'upper left')\n",
    "plt.show()"
   ]
  },
  {
   "cell_type": "code",
   "execution_count": 39,
   "metadata": {
    "ExecuteTime": {
     "end_time": "2020-06-27T21:34:42.010096Z",
     "start_time": "2020-06-27T21:34:41.889194Z"
    }
   },
   "outputs": [
    {
     "name": "stdout",
     "output_type": "stream",
     "text": [
      "62/62 [==============================] - 0s 2ms/step\n"
     ]
    }
   ],
   "source": [
    "results = model.evaluate(testX, testY)"
   ]
  },
  {
   "cell_type": "code",
   "execution_count": 48,
   "metadata": {
    "ExecuteTime": {
     "end_time": "2020-06-27T21:37:56.272204Z",
     "start_time": "2020-06-27T21:37:56.153580Z"
    }
   },
   "outputs": [],
   "source": [
    "test_pred = np.argmax(model.predict(testX), axis=1)"
   ]
  },
  {
   "cell_type": "code",
   "execution_count": 40,
   "metadata": {
    "ExecuteTime": {
     "end_time": "2020-06-27T21:34:44.425017Z",
     "start_time": "2020-06-27T21:34:44.422388Z"
    }
   },
   "outputs": [
    {
     "name": "stdout",
     "output_type": "stream",
     "text": [
      "Test accuracy:  0.9838709831237793\n"
     ]
    }
   ],
   "source": [
    "print('Test accuracy: ', results[1])"
   ]
  },
  {
   "cell_type": "code",
   "execution_count": 54,
   "metadata": {
    "ExecuteTime": {
     "end_time": "2020-06-27T21:39:35.070582Z",
     "start_time": "2020-06-27T21:39:35.065495Z"
    }
   },
   "outputs": [
    {
     "data": {
      "text/plain": [
       "array([[27,  0],\n",
       "       [ 1, 34]])"
      ]
     },
     "execution_count": 54,
     "metadata": {},
     "output_type": "execute_result"
    }
   ],
   "source": [
    "confusion_matrix(test_pred, np.argmax(testY, axis=1))"
   ]
  },
  {
   "cell_type": "markdown",
   "metadata": {},
   "source": [
    "Even simple CNN model shows fine performance of **98% **test accuracy"
   ]
  },
  {
   "cell_type": "code",
   "execution_count": null,
   "metadata": {},
   "outputs": [],
   "source": []
  },
  {
   "cell_type": "markdown",
   "metadata": {},
   "source": [
    "# Advanced Convolutional Neural Networks (CNN) - 1\n",
    "- Objective: try different structures of CNNs\n",
    "- Note: examples are performed on **i5 7600 + gtx 1060 6GB **"
   ]
  },
  {
   "cell_type": "markdown",
   "metadata": {},
   "source": [
    "## Deeper Networks\n",
    "- It is one of definite trends that CNN models submitted to ILSVRC are getting deeper and deeper\n",
    "<img src=\"https://cdn-images-1.medium.com/max/756/1*Io-I-fOM0jGftDb_nne4KQ.png\" style=\"width: 600px\"/>\n",
    "\n",
    "<br>\n",
    "- Deeper networks are able to learn more \"abstract\" representations by comprising more operations and nonlinearities \n",
    "- However, they are difficult and costly to train and prone to overfitting\n",
    "\n",
    "<img src=\"http://cs231n.github.io/assets/cnnvis/filt1.jpeg\" style=\"width: 400px\"/>"
   ]
  },
  {
   "cell_type": "code",
   "execution_count": 55,
   "metadata": {
    "ExecuteTime": {
     "end_time": "2020-06-27T21:40:58.174141Z",
     "start_time": "2020-06-27T21:40:58.171480Z"
    }
   },
   "outputs": [],
   "source": [
    "import numpy as np\n",
    "import matplotlib.pyplot as plt\n",
    "\n",
    "from keras.datasets import mnist\n",
    "from keras.utils.np_utils import to_categorical"
   ]
  },
  {
   "cell_type": "markdown",
   "metadata": {
    "collapsed": true
   },
   "source": [
    "## 0. Basic CNN model\n",
    "- Basic CNN similar to what we made before\n",
    "- One convolutional & pooling layer"
   ]
  },
  {
   "cell_type": "code",
   "execution_count": 56,
   "metadata": {
    "ExecuteTime": {
     "end_time": "2020-06-27T21:41:12.326421Z",
     "start_time": "2020-06-27T21:41:12.323623Z"
    }
   },
   "outputs": [],
   "source": [
    "from keras.models import Sequential\n",
    "from keras import optimizers\n",
    "from keras.layers import Dense, Activation, Flatten, Conv2D, MaxPooling2D"
   ]
  },
  {
   "cell_type": "code",
   "execution_count": 63,
   "metadata": {
    "ExecuteTime": {
     "end_time": "2020-06-27T21:42:07.143540Z",
     "start_time": "2020-06-27T21:42:07.138212Z"
    }
   },
   "outputs": [],
   "source": [
    "def basic_cnn():\n",
    "    model = Sequential()\n",
    "    \n",
    "    model.add(Conv2D(input_shape = (trainX.shape[1], trainX.shape[2], trainX.shape[3]), filters = 50, kernel_size = (3,3), strides = (1,1), padding = 'same'))\n",
    "    model.add(Activation('relu'))\n",
    "    model.add(MaxPooling2D(pool_size = (2,2)))\n",
    "\n",
    "    # prior layer should be flattend to be connected to dense layers\n",
    "    model.add(Flatten())\n",
    "    # dense layer with 50 neurons\n",
    "    model.add(Dense(50, activation = 'relu'))\n",
    "    # final layer with 10 neurons to classify the instances\n",
    "    model.add(Dense(2, activation = 'softmax'))\n",
    "    \n",
    "    adam = optimizers.Adam(lr = 0.001)\n",
    "    model.compile(loss = 'categorical_crossentropy', optimizer = adam, metrics = ['accuracy'])\n",
    "    \n",
    "    return model    "
   ]
  },
  {
   "cell_type": "code",
   "execution_count": 64,
   "metadata": {
    "ExecuteTime": {
     "end_time": "2020-06-27T21:42:07.833105Z",
     "start_time": "2020-06-27T21:42:07.665960Z"
    }
   },
   "outputs": [],
   "source": [
    "model = basic_cnn()"
   ]
  },
  {
   "cell_type": "code",
   "execution_count": 65,
   "metadata": {
    "ExecuteTime": {
     "end_time": "2020-06-27T21:42:08.425016Z",
     "start_time": "2020-06-27T21:42:08.418012Z"
    },
    "scrolled": true
   },
   "outputs": [
    {
     "name": "stdout",
     "output_type": "stream",
     "text": [
      "Model: \"sequential_5\"\n",
      "_________________________________________________________________\n",
      "Layer (type)                 Output Shape              Param #   \n",
      "=================================================================\n",
      "conv2d_4 (Conv2D)            (None, 224, 224, 50)      1400      \n",
      "_________________________________________________________________\n",
      "activation_4 (Activation)    (None, 224, 224, 50)      0         \n",
      "_________________________________________________________________\n",
      "max_pooling2d_4 (MaxPooling2 (None, 112, 112, 50)      0         \n",
      "_________________________________________________________________\n",
      "flatten_4 (Flatten)          (None, 627200)            0         \n",
      "_________________________________________________________________\n",
      "dense_7 (Dense)              (None, 50)                31360050  \n",
      "_________________________________________________________________\n",
      "dense_8 (Dense)              (None, 2)                 102       \n",
      "=================================================================\n",
      "Total params: 31,361,552\n",
      "Trainable params: 31,361,552\n",
      "Non-trainable params: 0\n",
      "_________________________________________________________________\n"
     ]
    }
   ],
   "source": [
    "model.summary()"
   ]
  },
  {
   "cell_type": "code",
   "execution_count": 66,
   "metadata": {
    "ExecuteTime": {
     "end_time": "2020-06-27T21:42:48.228254Z",
     "start_time": "2020-06-27T21:42:09.122316Z"
    }
   },
   "outputs": [
    {
     "name": "stdout",
     "output_type": "stream",
     "text": [
      "Train on 197 samples, validate on 50 samples\n",
      "Epoch 1/10\n",
      "197/197 [==============================] - 6s 31ms/step - loss: 16.7226 - accuracy: 0.5888 - val_loss: 1.4637 - val_accuracy: 0.6600\n",
      "Epoch 2/10\n",
      "197/197 [==============================] - 4s 18ms/step - loss: 4.9789 - accuracy: 0.7056 - val_loss: 1.3726 - val_accuracy: 0.8200\n",
      "Epoch 3/10\n",
      "197/197 [==============================] - 4s 18ms/step - loss: 2.7059 - accuracy: 0.7513 - val_loss: 0.2743 - val_accuracy: 0.9600\n",
      "Epoch 4/10\n",
      "197/197 [==============================] - 4s 19ms/step - loss: 0.8631 - accuracy: 0.9137 - val_loss: 1.2729 - val_accuracy: 0.8400\n",
      "Epoch 5/10\n",
      "197/197 [==============================] - 4s 20ms/step - loss: 0.4090 - accuracy: 0.9137 - val_loss: 0.1779 - val_accuracy: 0.9600\n",
      "Epoch 6/10\n",
      "197/197 [==============================] - 4s 18ms/step - loss: 0.1424 - accuracy: 0.9492 - val_loss: 0.1209 - val_accuracy: 0.9600\n",
      "Epoch 7/10\n",
      "197/197 [==============================] - 4s 18ms/step - loss: 0.0896 - accuracy: 0.9645 - val_loss: 0.1184 - val_accuracy: 0.9600\n",
      "Epoch 8/10\n",
      "197/197 [==============================] - 4s 18ms/step - loss: 0.0578 - accuracy: 0.9797 - val_loss: 0.2198 - val_accuracy: 0.9000\n",
      "Epoch 9/10\n",
      "197/197 [==============================] - 4s 18ms/step - loss: 0.0401 - accuracy: 0.9746 - val_loss: 0.1142 - val_accuracy: 0.9800\n",
      "Epoch 10/10\n",
      "197/197 [==============================] - 3s 18ms/step - loss: 0.0198 - accuracy: 0.9949 - val_loss: 0.1769 - val_accuracy: 0.9200\n",
      "CPU times: user 4min 43s, sys: 32.7 s, total: 5min 16s\n",
      "Wall time: 39.1 s\n"
     ]
    }
   ],
   "source": [
    "%%time\n",
    "history = model.fit(trainX, trainY, batch_size = 50, validation_split = 0.2, epochs = 10, verbose = 1)"
   ]
  },
  {
   "cell_type": "code",
   "execution_count": 67,
   "metadata": {
    "ExecuteTime": {
     "end_time": "2020-06-27T21:42:51.672109Z",
     "start_time": "2020-06-27T21:42:51.540835Z"
    }
   },
   "outputs": [
    {
     "data": {
      "image/png": "[encoded data removed]",
      "text/plain": [
       "<Figure size 432x288 with 1 Axes>"
      ]
     },
     "metadata": {},
     "output_type": "display_data"
    }
   ],
   "source": [
    "plt.plot(history.history['accuracy'])\n",
    "plt.plot(history.history['val_accuracy'])\n",
    "plt.legend(['training', 'validation'], loc = 'upper left')\n",
    "plt.show()"
   ]
  },
  {
   "cell_type": "code",
   "execution_count": 69,
   "metadata": {
    "ExecuteTime": {
     "end_time": "2020-06-27T21:43:06.527292Z",
     "start_time": "2020-06-27T21:43:06.121774Z"
    }
   },
   "outputs": [
    {
     "name": "stdout",
     "output_type": "stream",
     "text": [
      "62/62 [==============================] - 0s 6ms/step\n"
     ]
    }
   ],
   "source": [
    "results = model.evaluate(testX, testY)"
   ]
  },
  {
   "cell_type": "code",
   "execution_count": 70,
   "metadata": {
    "ExecuteTime": {
     "end_time": "2020-06-27T21:43:09.297658Z",
     "start_time": "2020-06-27T21:43:09.294825Z"
    }
   },
   "outputs": [
    {
     "name": "stdout",
     "output_type": "stream",
     "text": [
      "Test accuracy:  0.9516128897666931\n"
     ]
    }
   ],
   "source": [
    "print('Test accuracy: ', results[1])"
   ]
  },
  {
   "cell_type": "code",
   "execution_count": 71,
   "metadata": {
    "ExecuteTime": {
     "end_time": "2020-06-27T21:43:39.909639Z",
     "start_time": "2020-06-27T21:43:39.574494Z"
    }
   },
   "outputs": [
    {
     "data": {
      "text/plain": [
       "array([[27,  2],\n",
       "       [ 1, 32]])"
      ]
     },
     "execution_count": 71,
     "metadata": {},
     "output_type": "execute_result"
    }
   ],
   "source": [
    "test_pred = np.argmax(model.predict(testX), axis=1)\n",
    "\n",
    "confusion_matrix(test_pred, np.argmax(testY, axis=1))"
   ]
  },
  {
   "cell_type": "code",
   "execution_count": null,
   "metadata": {},
   "outputs": [],
   "source": []
  },
  {
   "cell_type": "code",
   "execution_count": null,
   "metadata": {},
   "outputs": [],
   "source": []
  },
  {
   "cell_type": "markdown",
   "metadata": {},
   "source": [
    "## 1. Deep CNN - 1\n",
    "- Deeper network with 6 convolutional layers and 3 pooling layers\n",
    "- Note that two (3x3) convolutional layers are stacked\n",
    "    - It is equivalent to using one (5X5) convolutional layer, but with fewer parameters\n",
    "    - Similar to the structured used in VGGnet\n",
    "\n",
    "<img src=\"http://www.hirokatsukataoka.net/research/cnnfeatureevaluation/cnnarchitecture.jpg\" style=\"width: 600px\"/>"
   ]
  },
  {
   "cell_type": "code",
   "execution_count": 74,
   "metadata": {
    "ExecuteTime": {
     "end_time": "2020-06-27T21:44:46.566075Z",
     "start_time": "2020-06-27T21:44:46.556446Z"
    }
   },
   "outputs": [],
   "source": [
    "def deep_cnn():\n",
    "    model = Sequential()\n",
    "    \n",
    "    model.add(Conv2D(input_shape = (trainX.shape[1], trainX.shape[2], trainX.shape[3]), filters = 50, kernel_size = (3,3), strides = (1,1), padding = 'same'))\n",
    "    model.add(Activation('relu'))\n",
    "    model.add(Conv2D(filters = 50, kernel_size = (3,3), strides = (1,1), padding = 'same'))\n",
    "    model.add(Activation('relu'))\n",
    "    model.add(MaxPooling2D(pool_size = (2,2)))\n",
    "    model.add(Conv2D(filters = 50, kernel_size = (3,3), strides = (1,1), padding = 'same'))\n",
    "    model.add(Activation('relu'))\n",
    "    model.add(Conv2D(filters = 50, kernel_size = (3,3), strides = (1,1), padding = 'same'))\n",
    "    model.add(Activation('relu'))\n",
    "    model.add(MaxPooling2D(pool_size = (2,2)))\n",
    "    model.add(Conv2D(filters = 50, kernel_size = (3,3), strides = (1,1), padding = 'same'))\n",
    "    model.add(Activation('relu'))\n",
    "    model.add(Conv2D(filters = 50, kernel_size = (3,3), strides = (1,1), padding = 'same'))\n",
    "    model.add(Activation('relu'))\n",
    "    model.add(MaxPooling2D(pool_size = (2,2)))\n",
    "    \n",
    "    # prior layer should be flattend to be connected to dense layers\n",
    "    model.add(Flatten())\n",
    "    # dense layer with 50 neurons\n",
    "    model.add(Dense(50, activation = 'relu'))\n",
    "    # final layer with 10 neurons to classify the instances\n",
    "    model.add(Dense(2, activation = 'softmax'))\n",
    "    \n",
    "    adam = optimizers.Adam(lr = 0.001)\n",
    "    model.compile(loss = 'categorical_crossentropy', optimizer = adam, metrics = ['accuracy'])\n",
    "    \n",
    "    return model    "
   ]
  },
  {
   "cell_type": "code",
   "execution_count": 75,
   "metadata": {
    "ExecuteTime": {
     "end_time": "2020-06-27T21:44:49.005468Z",
     "start_time": "2020-06-27T21:44:48.927637Z"
    }
   },
   "outputs": [],
   "source": [
    "model = deep_cnn()"
   ]
  },
  {
   "cell_type": "code",
   "execution_count": 76,
   "metadata": {
    "ExecuteTime": {
     "end_time": "2020-06-27T21:44:50.623378Z",
     "start_time": "2020-06-27T21:44:50.617516Z"
    },
    "scrolled": true
   },
   "outputs": [
    {
     "name": "stdout",
     "output_type": "stream",
     "text": [
      "Model: \"sequential_7\"\n",
      "_________________________________________________________________\n",
      "Layer (type)                 Output Shape              Param #   \n",
      "=================================================================\n",
      "conv2d_5 (Conv2D)            (None, 224, 224, 50)      1400      \n",
      "_________________________________________________________________\n",
      "activation_5 (Activation)    (None, 224, 224, 50)      0         \n",
      "_________________________________________________________________\n",
      "conv2d_6 (Conv2D)            (None, 224, 224, 50)      22550     \n",
      "_________________________________________________________________\n",
      "activation_6 (Activation)    (None, 224, 224, 50)      0         \n",
      "_________________________________________________________________\n",
      "max_pooling2d_5 (MaxPooling2 (None, 112, 112, 50)      0         \n",
      "_________________________________________________________________\n",
      "conv2d_7 (Conv2D)            (None, 112, 112, 50)      22550     \n",
      "_________________________________________________________________\n",
      "activation_7 (Activation)    (None, 112, 112, 50)      0         \n",
      "_________________________________________________________________\n",
      "conv2d_8 (Conv2D)            (None, 112, 112, 50)      22550     \n",
      "_________________________________________________________________\n",
      "activation_8 (Activation)    (None, 112, 112, 50)      0         \n",
      "_________________________________________________________________\n",
      "max_pooling2d_6 (MaxPooling2 (None, 56, 56, 50)        0         \n",
      "_________________________________________________________________\n",
      "conv2d_9 (Conv2D)            (None, 56, 56, 50)        22550     \n",
      "_________________________________________________________________\n",
      "activation_9 (Activation)    (None, 56, 56, 50)        0         \n",
      "_________________________________________________________________\n",
      "conv2d_10 (Conv2D)           (None, 56, 56, 50)        22550     \n",
      "_________________________________________________________________\n",
      "activation_10 (Activation)   (None, 56, 56, 50)        0         \n",
      "_________________________________________________________________\n",
      "max_pooling2d_7 (MaxPooling2 (None, 28, 28, 50)        0         \n",
      "_________________________________________________________________\n",
      "flatten_5 (Flatten)          (None, 39200)             0         \n",
      "_________________________________________________________________\n",
      "dense_9 (Dense)              (None, 50)                1960050   \n",
      "_________________________________________________________________\n",
      "dense_10 (Dense)             (None, 2)                 102       \n",
      "=================================================================\n",
      "Total params: 2,074,302\n",
      "Trainable params: 2,074,302\n",
      "Non-trainable params: 0\n",
      "_________________________________________________________________\n"
     ]
    }
   ],
   "source": [
    "model.summary()"
   ]
  },
  {
   "cell_type": "code",
   "execution_count": 77,
   "metadata": {
    "ExecuteTime": {
     "end_time": "2020-06-27T21:48:31.363427Z",
     "start_time": "2020-06-27T21:45:05.729754Z"
    }
   },
   "outputs": [
    {
     "name": "stdout",
     "output_type": "stream",
     "text": [
      "Train on 197 samples, validate on 50 samples\n",
      "Epoch 1/10\n",
      " - 18s - loss: 0.6850 - accuracy: 0.6802 - val_loss: 0.6362 - val_accuracy: 0.5400\n",
      "Epoch 2/10\n",
      " - 17s - loss: 0.5454 - accuracy: 0.6345 - val_loss: 0.3315 - val_accuracy: 0.8800\n",
      "Epoch 3/10\n",
      " - 18s - loss: 0.2441 - accuracy: 0.8985 - val_loss: 0.3103 - val_accuracy: 0.8600\n",
      "Epoch 4/10\n",
      " - 18s - loss: 0.2616 - accuracy: 0.9086 - val_loss: 0.1170 - val_accuracy: 0.9400\n",
      "Epoch 5/10\n",
      " - 21s - loss: 0.2533 - accuracy: 0.9289 - val_loss: 0.2180 - val_accuracy: 0.8800\n",
      "Epoch 6/10\n",
      " - 23s - loss: 0.1386 - accuracy: 0.9492 - val_loss: 0.1711 - val_accuracy: 0.9200\n",
      "Epoch 7/10\n",
      " - 22s - loss: 0.1236 - accuracy: 0.9645 - val_loss: 0.1108 - val_accuracy: 0.9600\n",
      "Epoch 8/10\n",
      " - 23s - loss: 0.0726 - accuracy: 0.9645 - val_loss: 0.0898 - val_accuracy: 0.9600\n",
      "Epoch 9/10\n",
      " - 24s - loss: 0.0400 - accuracy: 0.9848 - val_loss: 0.1541 - val_accuracy: 0.9600\n",
      "Epoch 10/10\n",
      " - 21s - loss: 0.0444 - accuracy: 0.9797 - val_loss: 0.1401 - val_accuracy: 0.9600\n",
      "CPU times: user 26min 42s, sys: 52.2 s, total: 27min 34s\n",
      "Wall time: 3min 25s\n"
     ]
    }
   ],
   "source": [
    "%%time\n",
    "history = model.fit(trainX, trainY, batch_size = 50, validation_split = 0.2, epochs = 10, verbose = 2)"
   ]
  },
  {
   "cell_type": "code",
   "execution_count": 78,
   "metadata": {
    "ExecuteTime": {
     "end_time": "2020-06-27T21:48:56.193842Z",
     "start_time": "2020-06-27T21:48:56.072361Z"
    }
   },
   "outputs": [
    {
     "data": {
      "image/png": "[encoded data removed]",
      "text/plain": [
       "<Figure size 432x288 with 1 Axes>"
      ]
     },
     "metadata": {},
     "output_type": "display_data"
    }
   ],
   "source": [
    "plt.plot(history.history['accuracy'])\n",
    "plt.plot(history.history['val_accuracy'])\n",
    "plt.legend(['training', 'validation'], loc = 'upper left')\n",
    "plt.show()"
   ]
  },
  {
   "cell_type": "markdown",
   "metadata": {},
   "source": [
    "Training is rather unstable; accuracy falling down after around 80 epochs"
   ]
  },
  {
   "cell_type": "code",
   "execution_count": 79,
   "metadata": {
    "ExecuteTime": {
     "end_time": "2020-06-27T21:49:08.474152Z",
     "start_time": "2020-06-27T21:49:07.323103Z"
    }
   },
   "outputs": [
    {
     "name": "stdout",
     "output_type": "stream",
     "text": [
      "62/62 [==============================] - 1s 18ms/step\n"
     ]
    }
   ],
   "source": [
    "results = model.evaluate(testX, testY)"
   ]
  },
  {
   "cell_type": "code",
   "execution_count": 80,
   "metadata": {
    "ExecuteTime": {
     "end_time": "2020-06-27T21:49:08.479299Z",
     "start_time": "2020-06-27T21:49:08.475717Z"
    }
   },
   "outputs": [
    {
     "name": "stdout",
     "output_type": "stream",
     "text": [
      "Test accuracy:  0.9838709831237793\n"
     ]
    }
   ],
   "source": [
    "print('Test accuracy: ', results[1])"
   ]
  },
  {
   "cell_type": "code",
   "execution_count": null,
   "metadata": {},
   "outputs": [],
   "source": []
  },
  {
   "cell_type": "code",
   "execution_count": 81,
   "metadata": {
    "ExecuteTime": {
     "end_time": "2020-06-27T21:49:30.159978Z",
     "start_time": "2020-06-27T21:49:29.039568Z"
    }
   },
   "outputs": [
    {
     "data": {
      "text/plain": [
       "array([[27,  0],\n",
       "       [ 1, 34]])"
      ]
     },
     "execution_count": 81,
     "metadata": {},
     "output_type": "execute_result"
    }
   ],
   "source": [
    "test_pred = np.argmax(model.predict(testX), axis=1)\n",
    "\n",
    "confusion_matrix(test_pred, np.argmax(testY, axis=1))"
   ]
  },
  {
   "cell_type": "code",
   "execution_count": null,
   "metadata": {},
   "outputs": [],
   "source": []
  },
  {
   "cell_type": "markdown",
   "metadata": {
    "collapsed": true
   },
   "source": [
    "## 2. Deep CNN - 2\n",
    "- Measures used to ameliorate the performance of MLPs are employed\n",
    "    - Weight Initialization\n",
    "    - Batch Normalization\n",
    "    - Dropout"
   ]
  },
  {
   "cell_type": "code",
   "execution_count": 84,
   "metadata": {
    "ExecuteTime": {
     "end_time": "2020-06-27T21:50:13.879172Z",
     "start_time": "2020-06-27T21:50:13.876889Z"
    }
   },
   "outputs": [],
   "source": [
    "from keras.layers import BatchNormalization, Dropout"
   ]
  },
  {
   "cell_type": "code",
   "execution_count": 85,
   "metadata": {
    "ExecuteTime": {
     "end_time": "2020-06-27T21:50:17.160954Z",
     "start_time": "2020-06-27T21:50:17.148918Z"
    }
   },
   "outputs": [],
   "source": [
    "def deep_cnn_advanced():\n",
    "    model = Sequential()\n",
    "    \n",
    "    model.add(Conv2D(input_shape = (trainX.shape[1], trainX.shape[2], trainX.shape[3]), filters = 50, kernel_size = (3,3), strides = (1,1), padding = 'same', kernel_initializer='he_normal'))\n",
    "    model.add(BatchNormalization())\n",
    "    model.add(Activation('relu'))\n",
    "    model.add(Conv2D(filters = 50, kernel_size = (3,3), strides = (1,1), padding = 'same', kernel_initializer='he_normal'))\n",
    "    model.add(BatchNormalization())\n",
    "    model.add(Activation('relu'))\n",
    "    model.add(MaxPooling2D(pool_size = (2,2)))\n",
    "    model.add(Conv2D(filters = 50, kernel_size = (3,3), strides = (1,1), padding = 'same', kernel_initializer='he_normal'))\n",
    "    model.add(BatchNormalization())\n",
    "    model.add(Activation('relu'))\n",
    "    model.add(Conv2D(filters = 50, kernel_size = (3,3), strides = (1,1), padding = 'same', kernel_initializer='he_normal'))\n",
    "    model.add(BatchNormalization())\n",
    "    model.add(Activation('relu'))\n",
    "    model.add(MaxPooling2D(pool_size = (2,2)))\n",
    "    model.add(Conv2D(filters = 50, kernel_size = (3,3), strides = (1,1), padding = 'same', kernel_initializer='he_normal'))\n",
    "    model.add(BatchNormalization())\n",
    "    model.add(Activation('relu'))\n",
    "    model.add(Conv2D(filters = 50, kernel_size = (3,3), strides = (1,1), padding = 'same', kernel_initializer='he_normal'))\n",
    "    model.add(BatchNormalization())\n",
    "    model.add(Activation('relu'))\n",
    "    model.add(MaxPooling2D(pool_size = (2,2)))\n",
    "    \n",
    "    # prior layer should be flattend to be connected to dense layers\n",
    "    model.add(Flatten())\n",
    "    # dense layer with 50 neurons\n",
    "    model.add(Dense(50, activation = 'relu', kernel_initializer='he_normal'))\n",
    "    model.add(Dropout(0.5))\n",
    "    # final layer with 10 neurons to classify the instances\n",
    "    model.add(Dense(2, activation = 'softmax', kernel_initializer='he_normal'))\n",
    "    \n",
    "    adam = optimizers.Adam(lr = 0.001)\n",
    "    model.compile(loss = 'categorical_crossentropy', optimizer = adam, metrics = ['accuracy'])\n",
    "    \n",
    "    return model    "
   ]
  },
  {
   "cell_type": "code",
   "execution_count": 86,
   "metadata": {
    "ExecuteTime": {
     "end_time": "2020-06-27T21:50:18.923551Z",
     "start_time": "2020-06-27T21:50:18.596332Z"
    }
   },
   "outputs": [],
   "source": [
    "model = deep_cnn_advanced()"
   ]
  },
  {
   "cell_type": "code",
   "execution_count": 87,
   "metadata": {
    "ExecuteTime": {
     "end_time": "2020-06-27T21:50:20.387573Z",
     "start_time": "2020-06-27T21:50:20.378273Z"
    },
    "scrolled": true
   },
   "outputs": [
    {
     "name": "stdout",
     "output_type": "stream",
     "text": [
      "Model: \"sequential_9\"\n",
      "_________________________________________________________________\n",
      "Layer (type)                 Output Shape              Param #   \n",
      "=================================================================\n",
      "conv2d_12 (Conv2D)           (None, 224, 224, 50)      1400      \n",
      "_________________________________________________________________\n",
      "batch_normalization_1 (Batch (None, 224, 224, 50)      200       \n",
      "_________________________________________________________________\n",
      "activation_11 (Activation)   (None, 224, 224, 50)      0         \n",
      "_________________________________________________________________\n",
      "conv2d_13 (Conv2D)           (None, 224, 224, 50)      22550     \n",
      "_________________________________________________________________\n",
      "batch_normalization_2 (Batch (None, 224, 224, 50)      200       \n",
      "_________________________________________________________________\n",
      "activation_12 (Activation)   (None, 224, 224, 50)      0         \n",
      "_________________________________________________________________\n",
      "max_pooling2d_8 (MaxPooling2 (None, 112, 112, 50)      0         \n",
      "_________________________________________________________________\n",
      "conv2d_14 (Conv2D)           (None, 112, 112, 50)      22550     \n",
      "_________________________________________________________________\n",
      "batch_normalization_3 (Batch (None, 112, 112, 50)      200       \n",
      "_________________________________________________________________\n",
      "activation_13 (Activation)   (None, 112, 112, 50)      0         \n",
      "_________________________________________________________________\n",
      "conv2d_15 (Conv2D)           (None, 112, 112, 50)      22550     \n",
      "_________________________________________________________________\n",
      "batch_normalization_4 (Batch (None, 112, 112, 50)      200       \n",
      "_________________________________________________________________\n",
      "activation_14 (Activation)   (None, 112, 112, 50)      0         \n",
      "_________________________________________________________________\n",
      "max_pooling2d_9 (MaxPooling2 (None, 56, 56, 50)        0         \n",
      "_________________________________________________________________\n",
      "conv2d_16 (Conv2D)           (None, 56, 56, 50)        22550     \n",
      "_________________________________________________________________\n",
      "batch_normalization_5 (Batch (None, 56, 56, 50)        200       \n",
      "_________________________________________________________________\n",
      "activation_15 (Activation)   (None, 56, 56, 50)        0         \n",
      "_________________________________________________________________\n",
      "conv2d_17 (Conv2D)           (None, 56, 56, 50)        22550     \n",
      "_________________________________________________________________\n",
      "batch_normalization_6 (Batch (None, 56, 56, 50)        200       \n",
      "_________________________________________________________________\n",
      "activation_16 (Activation)   (None, 56, 56, 50)        0         \n",
      "_________________________________________________________________\n",
      "max_pooling2d_10 (MaxPooling (None, 28, 28, 50)        0         \n",
      "_________________________________________________________________\n",
      "flatten_6 (Flatten)          (None, 39200)             0         \n",
      "_________________________________________________________________\n",
      "dense_11 (Dense)             (None, 50)                1960050   \n",
      "_________________________________________________________________\n",
      "dropout_1 (Dropout)          (None, 50)                0         \n",
      "_________________________________________________________________\n",
      "dense_12 (Dense)             (None, 2)                 102       \n",
      "=================================================================\n",
      "Total params: 2,075,502\n",
      "Trainable params: 2,074,902\n",
      "Non-trainable params: 600\n",
      "_________________________________________________________________\n"
     ]
    }
   ],
   "source": [
    "model.summary()"
   ]
  },
  {
   "cell_type": "code",
   "execution_count": 89,
   "metadata": {
    "ExecuteTime": {
     "end_time": "2020-06-27T23:00:14.750567Z",
     "start_time": "2020-06-27T21:50:43.431533Z"
    }
   },
   "outputs": [
    {
     "name": "stdout",
     "output_type": "stream",
     "text": [
      "Train on 197 samples, validate on 50 samples\n",
      "Epoch 1/100\n",
      "197/197 [==============================] - 41s 211ms/step - loss: 7.7117 - accuracy: 0.6193 - val_loss: 12.3412 - val_accuracy: 0.5400\n",
      "Epoch 2/100\n",
      "197/197 [==============================] - 35s 180ms/step - loss: 2.5575 - accuracy: 0.8426 - val_loss: 36.3183 - val_accuracy: 0.5400\n",
      "Epoch 3/100\n",
      "197/197 [==============================] - 35s 179ms/step - loss: 0.4927 - accuracy: 0.9442 - val_loss: 35.5696 - val_accuracy: 0.4200\n",
      "Epoch 4/100\n",
      "197/197 [==============================] - 37s 189ms/step - loss: 0.3590 - accuracy: 0.9442 - val_loss: 47.7165 - val_accuracy: 0.4400\n",
      "Epoch 5/100\n",
      "197/197 [==============================] - 41s 206ms/step - loss: 0.0519 - accuracy: 0.9797 - val_loss: 40.2094 - val_accuracy: 0.4400\n",
      "Epoch 6/100\n",
      "197/197 [==============================] - 40s 203ms/step - loss: 0.2012 - accuracy: 0.9594 - val_loss: 31.9427 - val_accuracy: 0.4600\n",
      "Epoch 7/100\n",
      "197/197 [==============================] - 40s 203ms/step - loss: 0.0913 - accuracy: 0.9797 - val_loss: 23.5273 - val_accuracy: 0.4600\n",
      "Epoch 8/100\n",
      "197/197 [==============================] - 37s 187ms/step - loss: 0.0026 - accuracy: 1.0000 - val_loss: 17.9051 - val_accuracy: 0.4600\n",
      "Epoch 9/100\n",
      "197/197 [==============================] - 37s 189ms/step - loss: 0.0198 - accuracy: 0.9898 - val_loss: 14.4061 - val_accuracy: 0.4600\n",
      "Epoch 10/100\n",
      "197/197 [==============================] - 38s 192ms/step - loss: 7.6904e-04 - accuracy: 1.0000 - val_loss: 11.5925 - val_accuracy: 0.4600\n",
      "Epoch 11/100\n",
      "197/197 [==============================] - 37s 189ms/step - loss: 0.0196 - accuracy: 0.9848 - val_loss: 9.2328 - val_accuracy: 0.4600\n",
      "Epoch 12/100\n",
      "197/197 [==============================] - 38s 192ms/step - loss: 8.6549e-05 - accuracy: 1.0000 - val_loss: 7.3619 - val_accuracy: 0.4800\n",
      "Epoch 13/100\n",
      "197/197 [==============================] - 38s 192ms/step - loss: 0.0032 - accuracy: 1.0000 - val_loss: 5.9131 - val_accuracy: 0.4800\n",
      "Epoch 14/100\n",
      "197/197 [==============================] - 37s 189ms/step - loss: 0.0274 - accuracy: 0.9898 - val_loss: 4.5961 - val_accuracy: 0.4800\n",
      "Epoch 15/100\n",
      "197/197 [==============================] - 37s 188ms/step - loss: 0.0083 - accuracy: 0.9949 - val_loss: 3.5620 - val_accuracy: 0.5000\n",
      "Epoch 16/100\n",
      "197/197 [==============================] - 43s 217ms/step - loss: 0.0027 - accuracy: 1.0000 - val_loss: 2.8008 - val_accuracy: 0.5400\n",
      "Epoch 17/100\n",
      "197/197 [==============================] - 44s 223ms/step - loss: 0.0045 - accuracy: 1.0000 - val_loss: 2.2435 - val_accuracy: 0.5400\n",
      "Epoch 18/100\n",
      "197/197 [==============================] - 41s 209ms/step - loss: 0.0086 - accuracy: 1.0000 - val_loss: 1.8785 - val_accuracy: 0.5400\n",
      "Epoch 19/100\n",
      "197/197 [==============================] - 37s 190ms/step - loss: 0.0116 - accuracy: 0.9949 - val_loss: 1.6471 - val_accuracy: 0.5600\n",
      "Epoch 20/100\n",
      "197/197 [==============================] - 37s 189ms/step - loss: 0.0186 - accuracy: 0.9949 - val_loss: 1.5255 - val_accuracy: 0.5600\n",
      "Epoch 21/100\n",
      "197/197 [==============================] - 41s 207ms/step - loss: 0.0010 - accuracy: 1.0000 - val_loss: 1.4348 - val_accuracy: 0.5600\n",
      "Epoch 22/100\n",
      "197/197 [==============================] - 41s 210ms/step - loss: 3.8159e-04 - accuracy: 1.0000 - val_loss: 1.3484 - val_accuracy: 0.5600\n",
      "Epoch 23/100\n",
      "197/197 [==============================] - 39s 198ms/step - loss: 0.0071 - accuracy: 1.0000 - val_loss: 1.2777 - val_accuracy: 0.5800\n",
      "Epoch 24/100\n",
      "197/197 [==============================] - 39s 196ms/step - loss: 0.0101 - accuracy: 0.9898 - val_loss: 1.2278 - val_accuracy: 0.6000\n",
      "Epoch 25/100\n",
      "197/197 [==============================] - 39s 196ms/step - loss: 1.4943e-04 - accuracy: 1.0000 - val_loss: 1.1815 - val_accuracy: 0.6000\n",
      "Epoch 26/100\n",
      "197/197 [==============================] - 39s 198ms/step - loss: 1.3466e-04 - accuracy: 1.0000 - val_loss: 1.1279 - val_accuracy: 0.6000\n",
      "Epoch 27/100\n",
      "197/197 [==============================] - 38s 195ms/step - loss: 0.0029 - accuracy: 1.0000 - val_loss: 1.0791 - val_accuracy: 0.6200\n",
      "Epoch 28/100\n",
      "197/197 [==============================] - 36s 185ms/step - loss: 3.4051e-04 - accuracy: 1.0000 - val_loss: 1.0320 - val_accuracy: 0.6200\n",
      "Epoch 29/100\n",
      "197/197 [==============================] - 44s 221ms/step - loss: 0.0055 - accuracy: 1.0000 - val_loss: 0.9939 - val_accuracy: 0.6200\n",
      "Epoch 30/100\n",
      "197/197 [==============================] - 42s 216ms/step - loss: 0.0039 - accuracy: 1.0000 - val_loss: 0.9669 - val_accuracy: 0.6200\n",
      "Epoch 31/100\n",
      "197/197 [==============================] - 41s 208ms/step - loss: 4.0259e-04 - accuracy: 1.0000 - val_loss: 0.9306 - val_accuracy: 0.6200\n",
      "Epoch 32/100\n",
      "197/197 [==============================] - 42s 212ms/step - loss: 1.0999e-04 - accuracy: 1.0000 - val_loss: 0.8881 - val_accuracy: 0.6200\n",
      "Epoch 33/100\n",
      "197/197 [==============================] - 39s 200ms/step - loss: 2.2881e-04 - accuracy: 1.0000 - val_loss: 0.8459 - val_accuracy: 0.6400\n",
      "Epoch 34/100\n",
      "197/197 [==============================] - 39s 196ms/step - loss: 0.0046 - accuracy: 1.0000 - val_loss: 0.7800 - val_accuracy: 0.6600\n",
      "Epoch 35/100\n",
      "197/197 [==============================] - 37s 189ms/step - loss: 6.4598e-04 - accuracy: 1.0000 - val_loss: 0.6971 - val_accuracy: 0.6800\n",
      "Epoch 36/100\n",
      "197/197 [==============================] - 42s 215ms/step - loss: 0.0040 - accuracy: 1.0000 - val_loss: 0.6247 - val_accuracy: 0.7000\n",
      "Epoch 37/100\n",
      "197/197 [==============================] - 42s 211ms/step - loss: 0.0103 - accuracy: 0.9949 - val_loss: 0.5924 - val_accuracy: 0.7000\n",
      "Epoch 38/100\n",
      "197/197 [==============================] - 40s 204ms/step - loss: 2.8627e-04 - accuracy: 1.0000 - val_loss: 0.5636 - val_accuracy: 0.7200\n",
      "Epoch 39/100\n",
      "197/197 [==============================] - 38s 192ms/step - loss: 0.0043 - accuracy: 0.9949 - val_loss: 0.5381 - val_accuracy: 0.7200\n",
      "Epoch 40/100\n",
      "197/197 [==============================] - 37s 186ms/step - loss: 0.0023 - accuracy: 1.0000 - val_loss: 0.5179 - val_accuracy: 0.7600\n",
      "Epoch 41/100\n",
      "197/197 [==============================] - 39s 200ms/step - loss: 4.5374e-04 - accuracy: 1.0000 - val_loss: 0.5023 - val_accuracy: 0.7600\n",
      "Epoch 42/100\n",
      "197/197 [==============================] - 42s 214ms/step - loss: 0.0014 - accuracy: 1.0000 - val_loss: 0.4889 - val_accuracy: 0.7600\n",
      "Epoch 43/100\n",
      "197/197 [==============================] - 45s 227ms/step - loss: 1.7965e-04 - accuracy: 1.0000 - val_loss: 0.4761 - val_accuracy: 0.7800\n",
      "Epoch 44/100\n",
      "197/197 [==============================] - 40s 203ms/step - loss: 4.3304e-05 - accuracy: 1.0000 - val_loss: 0.4620 - val_accuracy: 0.7800\n",
      "Epoch 45/100\n",
      "197/197 [==============================] - 40s 205ms/step - loss: 2.7510e-05 - accuracy: 1.0000 - val_loss: 0.4480 - val_accuracy: 0.7800\n",
      "Epoch 46/100\n",
      "197/197 [==============================] - 40s 205ms/step - loss: 2.4451e-04 - accuracy: 1.0000 - val_loss: 0.4346 - val_accuracy: 0.7800\n",
      "Epoch 47/100\n",
      "197/197 [==============================] - 41s 207ms/step - loss: 0.0037 - accuracy: 1.0000 - val_loss: 0.4222 - val_accuracy: 0.8000\n",
      "Epoch 48/100\n",
      "197/197 [==============================] - 41s 207ms/step - loss: 0.0044 - accuracy: 1.0000 - val_loss: 0.4067 - val_accuracy: 0.8000\n",
      "Epoch 49/100\n",
      "197/197 [==============================] - 39s 200ms/step - loss: 4.4012e-06 - accuracy: 1.0000 - val_loss: 0.3864 - val_accuracy: 0.8200\n",
      "Epoch 50/100\n",
      "197/197 [==============================] - 41s 208ms/step - loss: 0.0035 - accuracy: 0.9949 - val_loss: 0.3733 - val_accuracy: 0.8200\n",
      "Epoch 51/100\n",
      "197/197 [==============================] - 46s 231ms/step - loss: 0.0018 - accuracy: 1.0000 - val_loss: 0.3311 - val_accuracy: 0.8600\n",
      "Epoch 52/100\n",
      "197/197 [==============================] - 45s 229ms/step - loss: 3.7518e-05 - accuracy: 1.0000 - val_loss: 0.3017 - val_accuracy: 0.8600\n",
      "Epoch 53/100\n",
      "197/197 [==============================] - 38s 191ms/step - loss: 0.0025 - accuracy: 1.0000 - val_loss: 0.2486 - val_accuracy: 0.8800\n",
      "Epoch 54/100\n",
      "197/197 [==============================] - 41s 207ms/step - loss: 0.0017 - accuracy: 1.0000 - val_loss: 0.2210 - val_accuracy: 0.8800\n",
      "Epoch 55/100\n",
      "197/197 [==============================] - 39s 196ms/step - loss: 6.0090e-04 - accuracy: 1.0000 - val_loss: 0.2051 - val_accuracy: 0.9000\n"
     ]
    },
    {
     "name": "stdout",
     "output_type": "stream",
     "text": [
      "Epoch 56/100\n",
      "197/197 [==============================] - 46s 233ms/step - loss: 0.0056 - accuracy: 1.0000 - val_loss: 0.1903 - val_accuracy: 0.9000\n",
      "Epoch 57/100\n",
      "197/197 [==============================] - 42s 211ms/step - loss: 0.0037 - accuracy: 1.0000 - val_loss: 0.1829 - val_accuracy: 0.9200\n",
      "Epoch 58/100\n",
      "197/197 [==============================] - 52s 266ms/step - loss: 5.1171e-04 - accuracy: 1.0000 - val_loss: 0.1769 - val_accuracy: 0.9200\n",
      "Epoch 59/100\n",
      "197/197 [==============================] - 45s 227ms/step - loss: 2.7123e-04 - accuracy: 1.0000 - val_loss: 0.1718 - val_accuracy: 0.9400\n",
      "Epoch 60/100\n",
      "197/197 [==============================] - 40s 203ms/step - loss: 1.1053e-04 - accuracy: 1.0000 - val_loss: 0.1676 - val_accuracy: 0.9400\n",
      "Epoch 61/100\n",
      "197/197 [==============================] - 44s 223ms/step - loss: 0.0106 - accuracy: 0.9949 - val_loss: 0.1588 - val_accuracy: 0.9400\n",
      "Epoch 62/100\n",
      "197/197 [==============================] - 41s 206ms/step - loss: 0.0036 - accuracy: 1.0000 - val_loss: 0.1486 - val_accuracy: 0.9400\n",
      "Epoch 63/100\n",
      "197/197 [==============================] - 46s 235ms/step - loss: 6.8799e-06 - accuracy: 1.0000 - val_loss: 0.1415 - val_accuracy: 0.9400\n",
      "Epoch 64/100\n",
      "197/197 [==============================] - 54s 275ms/step - loss: 2.5171e-05 - accuracy: 1.0000 - val_loss: 0.1360 - val_accuracy: 0.9400\n",
      "Epoch 65/100\n",
      "197/197 [==============================] - 44s 223ms/step - loss: 0.0036 - accuracy: 1.0000 - val_loss: 0.1317 - val_accuracy: 0.9400\n",
      "Epoch 66/100\n",
      "197/197 [==============================] - 42s 213ms/step - loss: 0.0046 - accuracy: 0.9949 - val_loss: 0.1295 - val_accuracy: 0.9400\n",
      "Epoch 67/100\n",
      "197/197 [==============================] - 62s 316ms/step - loss: 9.9156e-06 - accuracy: 1.0000 - val_loss: 0.1282 - val_accuracy: 0.9400\n",
      "Epoch 68/100\n",
      "197/197 [==============================] - 41s 207ms/step - loss: 8.3086e-05 - accuracy: 1.0000 - val_loss: 0.1294 - val_accuracy: 0.9400\n",
      "Epoch 69/100\n",
      "197/197 [==============================] - 52s 264ms/step - loss: 1.3974e-05 - accuracy: 1.0000 - val_loss: 0.1300 - val_accuracy: 0.9400\n",
      "Epoch 70/100\n",
      "197/197 [==============================] - 64s 323ms/step - loss: 3.4169e-04 - accuracy: 1.0000 - val_loss: 0.1293 - val_accuracy: 0.9400\n",
      "Epoch 71/100\n",
      "197/197 [==============================] - 41s 206ms/step - loss: 0.0035 - accuracy: 1.0000 - val_loss: 0.1280 - val_accuracy: 0.9400\n",
      "Epoch 72/100\n",
      "197/197 [==============================] - 40s 201ms/step - loss: 1.3311e-04 - accuracy: 1.0000 - val_loss: 0.1258 - val_accuracy: 0.9400\n",
      "Epoch 73/100\n",
      "197/197 [==============================] - 47s 241ms/step - loss: 7.6402e-05 - accuracy: 1.0000 - val_loss: 0.1232 - val_accuracy: 0.9400\n",
      "Epoch 74/100\n",
      "197/197 [==============================] - 42s 212ms/step - loss: 6.7656e-05 - accuracy: 1.0000 - val_loss: 0.1201 - val_accuracy: 0.9400\n",
      "Epoch 75/100\n",
      "197/197 [==============================] - 37s 188ms/step - loss: 3.5596e-06 - accuracy: 1.0000 - val_loss: 0.1167 - val_accuracy: 0.9400\n",
      "Epoch 76/100\n",
      "197/197 [==============================] - 40s 204ms/step - loss: 7.3272e-06 - accuracy: 1.0000 - val_loss: 0.1130 - val_accuracy: 0.9400\n",
      "Epoch 77/100\n",
      "197/197 [==============================] - 48s 242ms/step - loss: 4.9640e-04 - accuracy: 1.0000 - val_loss: 0.1110 - val_accuracy: 0.9400\n",
      "Epoch 78/100\n",
      "197/197 [==============================] - 50s 252ms/step - loss: 9.5918e-05 - accuracy: 1.0000 - val_loss: 0.1099 - val_accuracy: 0.9400\n",
      "Epoch 79/100\n",
      "197/197 [==============================] - 41s 210ms/step - loss: 0.0035 - accuracy: 1.0000 - val_loss: 0.1075 - val_accuracy: 0.9400\n",
      "Epoch 80/100\n",
      "197/197 [==============================] - 44s 224ms/step - loss: 0.0039 - accuracy: 1.0000 - val_loss: 0.1056 - val_accuracy: 0.9400\n",
      "Epoch 81/100\n",
      "197/197 [==============================] - 42s 213ms/step - loss: 0.0084 - accuracy: 1.0000 - val_loss: 0.1074 - val_accuracy: 0.9400\n",
      "Epoch 82/100\n",
      "197/197 [==============================] - 43s 217ms/step - loss: 6.0206e-05 - accuracy: 1.0000 - val_loss: 0.1112 - val_accuracy: 0.9400\n",
      "Epoch 83/100\n",
      "197/197 [==============================] - 39s 200ms/step - loss: 0.0035 - accuracy: 1.0000 - val_loss: 0.1123 - val_accuracy: 0.9400\n",
      "Epoch 84/100\n",
      "197/197 [==============================] - 39s 199ms/step - loss: 0.0039 - accuracy: 1.0000 - val_loss: 0.1125 - val_accuracy: 0.9400\n",
      "Epoch 85/100\n",
      "197/197 [==============================] - 39s 196ms/step - loss: 0.0072 - accuracy: 0.9949 - val_loss: 0.0954 - val_accuracy: 0.9400\n",
      "Epoch 86/100\n",
      "197/197 [==============================] - 39s 200ms/step - loss: 2.4334e-05 - accuracy: 1.0000 - val_loss: 0.0816 - val_accuracy: 0.9600\n",
      "Epoch 87/100\n",
      "197/197 [==============================] - 43s 216ms/step - loss: 0.0035 - accuracy: 1.0000 - val_loss: 0.0719 - val_accuracy: 0.9800\n",
      "Epoch 88/100\n",
      "197/197 [==============================] - 40s 204ms/step - loss: 0.0035 - accuracy: 1.0000 - val_loss: 0.0616 - val_accuracy: 0.9800\n",
      "Epoch 89/100\n",
      "197/197 [==============================] - 38s 191ms/step - loss: 9.7473e-05 - accuracy: 1.0000 - val_loss: 0.0763 - val_accuracy: 0.9800\n",
      "Epoch 90/100\n",
      "197/197 [==============================] - 38s 195ms/step - loss: 0.0048 - accuracy: 0.9949 - val_loss: 0.0555 - val_accuracy: 0.9600\n",
      "Epoch 91/100\n",
      "197/197 [==============================] - 44s 225ms/step - loss: 1.7607e-04 - accuracy: 1.0000 - val_loss: 0.0666 - val_accuracy: 0.9800\n",
      "Epoch 92/100\n",
      "197/197 [==============================] - 45s 226ms/step - loss: 6.1742e-04 - accuracy: 1.0000 - val_loss: 0.0783 - val_accuracy: 0.9800\n",
      "Epoch 93/100\n",
      "197/197 [==============================] - 38s 191ms/step - loss: 1.4595e-05 - accuracy: 1.0000 - val_loss: 0.0875 - val_accuracy: 0.9800\n",
      "Epoch 94/100\n",
      "197/197 [==============================] - 43s 220ms/step - loss: 4.6679e-04 - accuracy: 1.0000 - val_loss: 0.0920 - val_accuracy: 0.9800\n",
      "Epoch 95/100\n",
      "197/197 [==============================] - 40s 205ms/step - loss: 2.4005e-04 - accuracy: 1.0000 - val_loss: 0.0973 - val_accuracy: 0.9800\n",
      "Epoch 96/100\n",
      "197/197 [==============================] - 37s 187ms/step - loss: 1.4875e-05 - accuracy: 1.0000 - val_loss: 0.1014 - val_accuracy: 0.9800\n",
      "Epoch 97/100\n",
      "197/197 [==============================] - 48s 243ms/step - loss: 2.7876e-04 - accuracy: 1.0000 - val_loss: 0.1044 - val_accuracy: 0.9800\n",
      "Epoch 98/100\n",
      "197/197 [==============================] - 50s 255ms/step - loss: 0.0014 - accuracy: 1.0000 - val_loss: 0.1059 - val_accuracy: 0.9800\n",
      "Epoch 99/100\n",
      "197/197 [==============================] - 45s 229ms/step - loss: 0.0013 - accuracy: 1.0000 - val_loss: 0.1049 - val_accuracy: 0.9800\n",
      "Epoch 100/100\n",
      "197/197 [==============================] - 53s 269ms/step - loss: 8.2740e-05 - accuracy: 1.0000 - val_loss: 0.1026 - val_accuracy: 0.9800\n",
      "CPU times: user 8h 14min 11s, sys: 31min 4s, total: 8h 45min 16s\n",
      "Wall time: 1h 9min 31s\n"
     ]
    }
   ],
   "source": [
    "%%time\n",
    "history = model.fit(trainX, trainY, batch_size = 50, validation_split = 0.2, epochs = 100, verbose = 1)"
   ]
  },
  {
   "cell_type": "code",
   "execution_count": 90,
   "metadata": {
    "ExecuteTime": {
     "end_time": "2020-06-27T23:01:21.136480Z",
     "start_time": "2020-06-27T23:01:20.776853Z"
    }
   },
   "outputs": [
    {
     "data": {
      "image/png": "[encoded data removed]",
      "text/plain": [
       "<Figure size 432x288 with 1 Axes>"
      ]
     },
     "metadata": {},
     "output_type": "display_data"
    }
   ],
   "source": [
    "plt.plot(history.history['accuracy'])\n",
    "plt.plot(history.history['val_accuracy'])\n",
    "plt.legend(['training', 'validation'], loc = 'upper left')\n",
    "plt.show()"
   ]
  },
  {
   "cell_type": "markdown",
   "metadata": {},
   "source": [
    "Stable and comparable result is obtained"
   ]
  },
  {
   "cell_type": "code",
   "execution_count": 91,
   "metadata": {
    "ExecuteTime": {
     "end_time": "2020-06-27T23:01:37.833616Z",
     "start_time": "2020-06-27T23:01:35.282601Z"
    }
   },
   "outputs": [
    {
     "name": "stdout",
     "output_type": "stream",
     "text": [
      "62/62 [==============================] - 3s 41ms/step\n"
     ]
    }
   ],
   "source": [
    "results = model.evaluate(testX, testY)"
   ]
  },
  {
   "cell_type": "code",
   "execution_count": 92,
   "metadata": {
    "ExecuteTime": {
     "end_time": "2020-06-27T23:01:38.911153Z",
     "start_time": "2020-06-27T23:01:38.906833Z"
    }
   },
   "outputs": [
    {
     "name": "stdout",
     "output_type": "stream",
     "text": [
      "Test accuracy:  0.9677419066429138\n"
     ]
    }
   ],
   "source": [
    "print('Test accuracy: ', results[1])"
   ]
  },
  {
   "cell_type": "code",
   "execution_count": 93,
   "metadata": {
    "ExecuteTime": {
     "end_time": "2020-06-27T23:01:57.213506Z",
     "start_time": "2020-06-27T23:01:54.426472Z"
    }
   },
   "outputs": [
    {
     "data": {
      "text/plain": [
       "array([[28,  2],\n",
       "       [ 0, 32]])"
      ]
     },
     "execution_count": 93,
     "metadata": {},
     "output_type": "execute_result"
    }
   ],
   "source": [
    "test_pred = np.argmax(model.predict(testX), axis=1)\n",
    "\n",
    "confusion_matrix(test_pred, np.argmax(testY, axis=1))"
   ]
  },
  {
   "cell_type": "code",
   "execution_count": null,
   "metadata": {},
   "outputs": [],
   "source": []
  },
  {
   "cell_type": "code",
   "execution_count": null,
   "metadata": {},
   "outputs": [],
   "source": []
  },
  {
   "cell_type": "code",
   "execution_count": 7,
   "metadata": {
    "ExecuteTime": {
     "end_time": "2020-06-27T21:28:29.321928Z",
     "start_time": "2020-06-27T21:11:26.860471Z"
    }
   },
   "outputs": [
    {
     "name": "stdout",
     "output_type": "stream",
     "text": [
      "[INFO] compiling model...\n",
      "[INFO] training head...\n",
      "WARNING:tensorflow:From <ipython-input-7-c37ae559fa19>:42: Model.fit_generator (from tensorflow.python.keras.engine.training) is deprecated and will be removed in a future version.\n",
      "Instructions for updating:\n",
      "Please use Model.fit, which supports generators.\n",
      "WARNING:tensorflow:sample_weight modes were coerced from\n",
      "  ...\n",
      "    to  \n",
      "  ['...']\n",
      "Train for 30 steps, validate on 62 samples\n",
      "Epoch 1/25\n",
      "30/30 [==============================] - 34s 1s/step - loss: 0.7027 - accuracy: 0.6360 - val_loss: 0.4424 - val_accuracy: 0.8214\n",
      "Epoch 2/25\n",
      "30/30 [==============================] - 43s 1s/step - loss: 0.4809 - accuracy: 0.7950 - val_loss: 0.3350 - val_accuracy: 0.8750\n",
      "Epoch 3/25\n",
      "30/30 [==============================] - 38s 1s/step - loss: 0.3964 - accuracy: 0.8661 - val_loss: 0.2692 - val_accuracy: 0.9107\n",
      "Epoch 4/25\n",
      "30/30 [==============================] - 41s 1s/step - loss: 0.2850 - accuracy: 0.9289 - val_loss: 0.2069 - val_accuracy: 0.9643\n",
      "Epoch 5/25\n",
      "30/30 [==============================] - 47s 2s/step - loss: 0.2603 - accuracy: 0.9038 - val_loss: 0.1765 - val_accuracy: 0.9464\n",
      "Epoch 6/25\n",
      "30/30 [==============================] - 36s 1s/step - loss: 0.2319 - accuracy: 0.9038 - val_loss: 0.1406 - val_accuracy: 0.9821\n",
      "Epoch 7/25\n",
      "30/30 [==============================] - 43s 1s/step - loss: 0.2098 - accuracy: 0.9289 - val_loss: 0.1229 - val_accuracy: 0.9821\n",
      "Epoch 8/25\n",
      "30/30 [==============================] - 41s 1s/step - loss: 0.1861 - accuracy: 0.9331 - val_loss: 0.1017 - val_accuracy: 0.9821\n",
      "Epoch 9/25\n",
      "30/30 [==============================] - 38s 1s/step - loss: 0.1683 - accuracy: 0.9414 - val_loss: 0.0855 - val_accuracy: 1.0000\n",
      "Epoch 10/25\n",
      "30/30 [==============================] - 43s 1s/step - loss: 0.1491 - accuracy: 0.9498 - val_loss: 0.0769 - val_accuracy: 0.9821\n",
      "Epoch 11/25\n",
      "30/30 [==============================] - 39s 1s/step - loss: 0.1459 - accuracy: 0.9540 - val_loss: 0.0690 - val_accuracy: 0.9821\n",
      "Epoch 12/25\n",
      "30/30 [==============================] - 43s 1s/step - loss: 0.1141 - accuracy: 0.9623 - val_loss: 0.0621 - val_accuracy: 0.9821\n",
      "Epoch 13/25\n",
      "30/30 [==============================] - 42s 1s/step - loss: 0.1265 - accuracy: 0.9665 - val_loss: 0.0505 - val_accuracy: 1.0000\n",
      "Epoch 14/25\n",
      "30/30 [==============================] - 47s 2s/step - loss: 0.1076 - accuracy: 0.9623 - val_loss: 0.0528 - val_accuracy: 1.0000\n",
      "Epoch 15/25\n",
      "30/30 [==============================] - 47s 2s/step - loss: 0.1096 - accuracy: 0.9623 - val_loss: 0.0472 - val_accuracy: 1.0000\n",
      "Epoch 16/25\n",
      "30/30 [==============================] - 46s 2s/step - loss: 0.1257 - accuracy: 0.9582 - val_loss: 0.0413 - val_accuracy: 1.0000\n",
      "Epoch 17/25\n",
      "30/30 [==============================] - 39s 1s/step - loss: 0.1179 - accuracy: 0.9498 - val_loss: 0.0391 - val_accuracy: 1.0000\n",
      "Epoch 18/25\n",
      "30/30 [==============================] - 45s 2s/step - loss: 0.1132 - accuracy: 0.9623 - val_loss: 0.0450 - val_accuracy: 1.0000\n",
      "Epoch 19/25\n",
      "30/30 [==============================] - 44s 1s/step - loss: 0.0781 - accuracy: 0.9707 - val_loss: 0.0344 - val_accuracy: 1.0000\n",
      "Epoch 20/25\n",
      "30/30 [==============================] - 40s 1s/step - loss: 0.0771 - accuracy: 0.9791 - val_loss: 0.0313 - val_accuracy: 1.0000\n",
      "Epoch 21/25\n",
      "30/30 [==============================] - 36s 1s/step - loss: 0.0870 - accuracy: 0.9623 - val_loss: 0.0365 - val_accuracy: 1.0000\n",
      "Epoch 22/25\n",
      "30/30 [==============================] - 33s 1s/step - loss: 0.0687 - accuracy: 0.9833 - val_loss: 0.0414 - val_accuracy: 1.0000\n",
      "Epoch 23/25\n",
      "30/30 [==============================] - 37s 1s/step - loss: 0.0801 - accuracy: 0.9708 - val_loss: 0.0279 - val_accuracy: 1.0000\n",
      "Epoch 24/25\n",
      "30/30 [==============================] - 39s 1s/step - loss: 0.0681 - accuracy: 0.9791 - val_loss: 0.0278 - val_accuracy: 1.0000\n",
      "Epoch 25/25\n",
      "30/30 [==============================] - 38s 1s/step - loss: 0.0505 - accuracy: 0.9916 - val_loss: 0.0379 - val_accuracy: 1.0000\n"
     ]
    }
   ],
   "source": [
    "# initialize the training data augmentation object\n",
    "trainAug = ImageDataGenerator(\n",
    "\trotation_range=15,\n",
    "\tfill_mode=\"nearest\")\n",
    "\n",
    "# load the VGG16 network, ensuring the head FC layer sets are left\n",
    "# off\n",
    "baseModel = VGG16(weights=\"imagenet\", include_top=False,\n",
    "\tinput_tensor=Input(shape=(224, 224, 3)))\n",
    "\n",
    "# construct the head of the model that will be placed on top of the\n",
    "# the base model\n",
    "headModel = baseModel.output\n",
    "headModel = AveragePooling2D(pool_size=(4, 4))(headModel)\n",
    "headModel = Flatten(name=\"flatten\")(headModel)\n",
    "headModel = Dense(64, activation=\"relu\")(headModel)\n",
    "headModel = Dropout(0.5)(headModel)\n",
    "headModel = Dense(2, activation=\"softmax\")(headModel)\n",
    "\n",
    "# place the head FC model on top of the base model (this will become\n",
    "# the actual model we will train)\n",
    "model = Model(inputs=baseModel.input, outputs=headModel)\n",
    "\n",
    "# loop over all layers in the base model and freeze them so they will\n",
    "# *not* be updated during the first training process\n",
    "for layer in baseModel.layers:\n",
    "\tlayer.trainable = False\n",
    "\n",
    "# compile our model\n",
    "print(\"[INFO] compiling model...\")\n",
    "opt = Adam(lr=INIT_LR, decay=INIT_LR / EPOCHS)\n",
    "model.compile(loss=\"categorical_crossentropy\", optimizer=opt,\n",
    "\tmetrics=[\"accuracy\"])\n",
    "\n",
    "# train the head of the network\n",
    "print(\"[INFO] training head...\")\n",
    "H = model.fit_generator(\n",
    "\ttrainAug.flow(trainX, trainY, batch_size=BS),\n",
    "\tsteps_per_epoch=len(trainX) // BS,\n",
    "\tvalidation_data=(testX, testY),\n",
    "\tvalidation_steps=len(testX) // BS,\n",
    "\tepochs=EPOCHS)"
   ]
  },
  {
   "cell_type": "code",
   "execution_count": 11,
   "metadata": {
    "ExecuteTime": {
     "end_time": "2020-06-27T21:30:01.065856Z",
     "start_time": "2020-06-27T21:29:36.585601Z"
    }
   },
   "outputs": [
    {
     "name": "stdout",
     "output_type": "stream",
     "text": [
      "[INFO] evaluating network...\n",
      "              precision    recall  f1-score   support\n",
      "\n",
      "       covid       0.99      0.99      0.99       115\n",
      "      normal       0.99      0.99      0.99       132\n",
      "\n",
      "    accuracy                           0.99       247\n",
      "   macro avg       0.99      0.99      0.99       247\n",
      "weighted avg       0.99      0.99      0.99       247\n",
      "\n",
      "[[114   1]\n",
      " [  1 131]]\n",
      "acc: 0.9919\n",
      "sensitivity: 0.9913\n",
      "specificity: 0.9924\n"
     ]
    }
   ],
   "source": [
    "# make predictions on the testing set\n",
    "print(\"[INFO] evaluating network...\")\n",
    "predIdxs = model.predict(trainX, batch_size=BS)\n",
    "\n",
    "\n",
    "# for each image in the testing set we need to find the index of the\n",
    "# label with corresponding largest predicted probability\n",
    "predIdxs = np.argmax(predIdxs, axis=1)\n",
    "\n",
    "# show a nicely formatted classification report\n",
    "print(classification_report(trainY.argmax(axis=1), predIdxs,\n",
    "\ttarget_names=lb.classes_))\n",
    "\n",
    "# compute the confusion matrix and and use it to derive the raw\n",
    "# accuracy, sensitivity, and specificity\n",
    "cm = confusion_matrix(trainY.argmax(axis=1), predIdxs)\n",
    "total = sum(sum(cm))\n",
    "acc = (cm[0, 0] + cm[1, 1]) / total\n",
    "sensitivity = cm[0, 0] / (cm[0, 0] + cm[0, 1])\n",
    "specificity = cm[1, 1] / (cm[1, 0] + cm[1, 1])\n",
    "\n",
    "# show the confusion matrix, accuracy, sensitivity, and specificity\n",
    "print(cm)\n",
    "print(\"acc: {:.4f}\".format(acc))\n",
    "print(\"sensitivity: {:.4f}\".format(sensitivity))\n",
    "print(\"specificity: {:.4f}\".format(specificity))\n",
    "\n"
   ]
  },
  {
   "cell_type": "code",
   "execution_count": 12,
   "metadata": {
    "ExecuteTime": {
     "end_time": "2020-06-27T21:30:15.378311Z",
     "start_time": "2020-06-27T21:30:14.859796Z"
    }
   },
   "outputs": [
    {
     "name": "stdout",
     "output_type": "stream",
     "text": [
      "[INFO] saving COVID-19 detector model...\n"
     ]
    },
    {
     "data": {
      "image/png": "[encoded data removed]",
      "text/plain": [
       "<Figure size 432x288 with 1 Axes>"
      ]
     },
     "metadata": {},
     "output_type": "display_data"
    }
   ],
   "source": [
    "# plot the training loss and accuracy\n",
    "N = EPOCHS\n",
    "plt.style.use(\"ggplot\")\n",
    "plt.figure()\n",
    "plt.plot(np.arange(0, N), H.history[\"loss\"], label=\"train_loss\")\n",
    "plt.plot(np.arange(0, N), H.history[\"val_loss\"], label=\"val_loss\")\n",
    "plt.plot(np.arange(0, N), H.history[\"accuracy\"], label=\"train_acc\")\n",
    "plt.plot(np.arange(0, N), H.history[\"val_accuracy\"], label=\"val_acc\")\n",
    "plt.title(\"Training Loss and Accuracy on COVID-19 Dataset\")\n",
    "plt.xlabel(\"Epoch #\")\n",
    "plt.ylabel(\"Loss/Accuracy\")\n",
    "plt.legend(loc=\"lower left\")\n",
    "plt.savefig(\"plot\")\n",
    "\n",
    "# serialize the model to disk\n",
    "print(\"[INFO] saving COVID-19 detector model...\")\n",
    "model.save(\"model_VGG\", save_format=\"h5\")"
   ]
  },
  {
   "cell_type": "markdown",
   "metadata": {},
   "source": [
    "# Load the saved model"
   ]
  },
  {
   "cell_type": "code",
   "execution_count": 96,
   "metadata": {
    "ExecuteTime": {
     "end_time": "2020-06-28T09:21:46.622517Z",
     "start_time": "2020-06-28T09:21:45.650586Z"
    }
   },
   "outputs": [],
   "source": [
    "#Image utils\n",
    "from tensorflow import keras\n",
    "import cv2\n",
    "\n",
    "# Model saved with Keras model.save()\n",
    "MODEL_PATH = 'model_VGG'\n",
    "# Load your trained model\n",
    "loadedModel = keras.models.load_model(MODEL_PATH)\n"
   ]
  },
  {
   "cell_type": "code",
   "execution_count": 97,
   "metadata": {
    "ExecuteTime": {
     "end_time": "2020-06-28T09:21:59.170497Z",
     "start_time": "2020-06-28T09:21:58.835534Z"
    }
   },
   "outputs": [
    {
     "name": "stdout",
     "output_type": "stream",
     "text": [
      "Covid Negative\n"
     ]
    }
   ],
   "source": [
    "testDt = \"/Users/malaudeen/Documents/Inceptez/ML-Deployement/keras-covid-19/dataset/normal/person925_virus_1582.jpeg\"\n",
    "image = cv2.imread(testDt)\n",
    "image = cv2.cvtColor(image, cv2.COLOR_BGR2RGB)\n",
    "image = cv2.resize(image, (224, 224))\n",
    "image_con = image.reshape((1,224, 224,3))\n",
    "image_con = np.array(image_con) / 255.0\n",
    "predIdxs = loadedModel.predict(image_con, batch_size=BS)\n",
    "\n",
    "# for each image in the testing set we need to find the index of the\n",
    "# label with corresponding largest predicted probability\n",
    "predIdxs = np.argmax(predIdxs, axis=1)\n",
    "kv = {0:\"Covid Positive\",1:\"Covid Negative\"}\n",
    "l = dict((k,v) for k,v in kv.items())\n",
    "prednames = l[predIdxs[0]]\n",
    "print(prednames)"
   ]
  },
  {
   "cell_type": "code",
   "execution_count": null,
   "metadata": {},
   "outputs": [],
   "source": []
  },
  {
   "cell_type": "code",
   "execution_count": null,
   "metadata": {},
   "outputs": [],
   "source": []
  }
 ],
 "metadata": {
  "kernelspec": {
   "display_name": "Python 3",
   "language": "python",
   "name": "python3"
  },
  "language_info": {
   "codemirror_mode": {
    "name": "ipython",
    "version": 3
   },
   "file_extension": ".py",
   "mimetype": "text/x-python",
   "name": "python",
   "nbconvert_exporter": "python",
   "pygments_lexer": "ipython3",
   "version": "3.7.9"
  }
 },
 "nbformat": 4,
 "nbformat_minor": 4
}
